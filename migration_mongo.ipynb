{
 "cells": [
  {
   "attachments": {},
   "cell_type": "markdown",
   "metadata": {},
   "source": [
    "### Imports"
   ]
  },
  {
   "cell_type": "code",
   "execution_count": 1,
   "metadata": {},
   "outputs": [],
   "source": [
    "import pandas as pd\n",
    "import numpy as np\n",
    "import pymongo\n",
    "import json\n",
    "import math\n",
    "from datetime import date, datetime\n",
    "import cx_Oracle\n",
    "\n",
    "# path da instalação do instantclient\n",
    "cx_Oracle.init_oracle_client(lib_dir=r\"C:\\instantclient_21_9\")"
   ]
  },
  {
   "attachments": {},
   "cell_type": "markdown",
   "metadata": {},
   "source": [
    "### Estabelecer conexão"
   ]
  },
  {
   "cell_type": "code",
   "execution_count": 2,
   "metadata": {},
   "outputs": [],
   "source": [
    "# Conectar ao Oracle\n",
    "dsn_tns = cx_Oracle.makedsn('localhost', '1521', service_name='xe')\n",
    "conn = cx_Oracle.connect(user='store', password='uminho2023', dsn=dsn_tns)"
   ]
  },
  {
   "attachments": {},
   "cell_type": "markdown",
   "metadata": {},
   "source": [
    "### Selecionar dados das tabelas"
   ]
  },
  {
   "cell_type": "code",
   "execution_count": 3,
   "metadata": {},
   "outputs": [],
   "source": [
    "oracle_cursor = conn.cursor()"
   ]
  },
  {
   "attachments": {},
   "cell_type": "markdown",
   "metadata": {},
   "source": [
    "----\n",
    "Grupo 1: USER\n",
    "\n",
    "STORE_USERS"
   ]
  },
  {
   "cell_type": "code",
   "execution_count": 4,
   "metadata": {},
   "outputs": [],
   "source": [
    "oracle_cursor.execute(\"SELECT * FROM STORE_USERS\")\n",
    "results_storeUsers = oracle_cursor.fetchall()\n",
    "\n",
    "store_users = pd.DataFrame(results_storeUsers, columns=[i[0] for i in oracle_cursor.description])"
   ]
  },
  {
   "attachments": {},
   "cell_type": "markdown",
   "metadata": {},
   "source": [
    "ADDRESSES"
   ]
  },
  {
   "cell_type": "code",
   "execution_count": 5,
   "metadata": {},
   "outputs": [],
   "source": [
    "oracle_cursor.execute(\"SELECT * FROM ADDRESSES\")\n",
    "results_addresses = oracle_cursor.fetchall()\n",
    "\n",
    "addresses = pd.DataFrame(results_addresses, columns=[i[0] for i in oracle_cursor.description])"
   ]
  },
  {
   "attachments": {},
   "cell_type": "markdown",
   "metadata": {},
   "source": [
    "----\n",
    "Grupo 2: EMPLOYEES\n",
    "\n",
    "EMPLOYEES"
   ]
  },
  {
   "cell_type": "code",
   "execution_count": 6,
   "metadata": {},
   "outputs": [],
   "source": [
    "oracle_cursor.execute(\"SELECT * FROM EMPLOYEES\")\n",
    "results_employees = oracle_cursor.fetchall()\n",
    "\n",
    "employees = pd.DataFrame(results_employees, columns=[i[0] for i in oracle_cursor.description])"
   ]
  },
  {
   "attachments": {},
   "cell_type": "markdown",
   "metadata": {},
   "source": [
    "DEPARTMENTS"
   ]
  },
  {
   "cell_type": "code",
   "execution_count": 7,
   "metadata": {},
   "outputs": [],
   "source": [
    "oracle_cursor.execute(\"SELECT * FROM DEPARTMENTS\")\n",
    "results_departments = oracle_cursor.fetchall()\n",
    "\n",
    "departments = pd.DataFrame(results_departments, columns=[i[0] for i in oracle_cursor.description])"
   ]
  },
  {
   "attachments": {},
   "cell_type": "markdown",
   "metadata": {},
   "source": [
    "EMPLOYEES_ARCHIVE"
   ]
  },
  {
   "cell_type": "code",
   "execution_count": 8,
   "metadata": {},
   "outputs": [],
   "source": [
    "oracle_cursor.execute(\"SELECT * FROM EMPLOYEES_ARCHIVE\")\n",
    "results_employeesArchive = oracle_cursor.fetchall()\n",
    "\n",
    "employeesArchive = pd.DataFrame(results_employeesArchive, columns=[i[0] for i in oracle_cursor.description])"
   ]
  },
  {
   "attachments": {},
   "cell_type": "markdown",
   "metadata": {},
   "source": [
    "----\n",
    "Grupo 3: PRODUCT  \n",
    "\n",
    "PRODUCT"
   ]
  },
  {
   "cell_type": "code",
   "execution_count": 9,
   "metadata": {},
   "outputs": [],
   "source": [
    "oracle_cursor.execute(\"SELECT * FROM PRODUCT\")\n",
    "results_product = oracle_cursor.fetchall()\n",
    "\n",
    "product = pd.DataFrame(results_product, columns=[i[0] for i in oracle_cursor.description])"
   ]
  },
  {
   "attachments": {},
   "cell_type": "markdown",
   "metadata": {},
   "source": [
    "PRODUCT_CATEGORIES"
   ]
  },
  {
   "cell_type": "code",
   "execution_count": 10,
   "metadata": {},
   "outputs": [],
   "source": [
    "oracle_cursor.execute(\"SELECT * FROM PRODUCT_CATEGORIES\")\n",
    "results_productCategories = oracle_cursor.fetchall()\n",
    "\n",
    "productCategories = pd.DataFrame(results_productCategories, columns=[i[0] for i in oracle_cursor.description])"
   ]
  },
  {
   "attachments": {},
   "cell_type": "markdown",
   "metadata": {},
   "source": [
    "DISCOUNT"
   ]
  },
  {
   "cell_type": "code",
   "execution_count": 11,
   "metadata": {},
   "outputs": [],
   "source": [
    "oracle_cursor.execute(\"SELECT * FROM DISCOUNT\")\n",
    "results_discount = oracle_cursor.fetchall()\n",
    "\n",
    "discount = pd.DataFrame(results_discount, columns=[i[0] for i in oracle_cursor.description])"
   ]
  },
  {
   "attachments": {},
   "cell_type": "markdown",
   "metadata": {},
   "source": [
    "STOCK"
   ]
  },
  {
   "cell_type": "code",
   "execution_count": 12,
   "metadata": {},
   "outputs": [],
   "source": [
    "oracle_cursor.execute(\"SELECT * FROM STOCK\")\n",
    "results_stock = oracle_cursor.fetchall()\n",
    "\n",
    "stock = pd.DataFrame(results_stock, columns=[i[0] for i in oracle_cursor.description])"
   ]
  },
  {
   "attachments": {},
   "cell_type": "markdown",
   "metadata": {},
   "source": [
    "----\n",
    "Grupo 4: ORDER  \n",
    "  \n",
    "  \n",
    "PAYMENT_DETAILS"
   ]
  },
  {
   "cell_type": "code",
   "execution_count": 13,
   "metadata": {},
   "outputs": [],
   "source": [
    "oracle_cursor.execute(\"SELECT * FROM PAYMENT_DETAILS\")\n",
    "results_paymentDetails = oracle_cursor.fetchall()\n",
    "\n",
    "payment_details = pd.DataFrame(results_paymentDetails, columns=[i[0] for i in oracle_cursor.description])"
   ]
  },
  {
   "attachments": {},
   "cell_type": "markdown",
   "metadata": {},
   "source": [
    "ORDER_DETAILS"
   ]
  },
  {
   "cell_type": "code",
   "execution_count": 14,
   "metadata": {},
   "outputs": [],
   "source": [
    "oracle_cursor.execute(\"SELECT * FROM ORDER_DETAILS\")\n",
    "results_orderDetails = oracle_cursor.fetchall()\n",
    "\n",
    "order_details = pd.DataFrame(results_orderDetails, columns=[i[0] for i in oracle_cursor.description])"
   ]
  },
  {
   "attachments": {},
   "cell_type": "markdown",
   "metadata": {},
   "source": [
    "ORDER_ITEMS"
   ]
  },
  {
   "cell_type": "code",
   "execution_count": 15,
   "metadata": {},
   "outputs": [],
   "source": [
    "oracle_cursor.execute(\"SELECT * FROM ORDER_ITEMS\")\n",
    "results_orderItems = oracle_cursor.fetchall()\n",
    "\n",
    "order_items = pd.DataFrame(results_orderItems, columns=[i[0] for i in oracle_cursor.description])"
   ]
  },
  {
   "attachments": {},
   "cell_type": "markdown",
   "metadata": {},
   "source": [
    "CART_ITEM"
   ]
  },
  {
   "cell_type": "code",
   "execution_count": 16,
   "metadata": {},
   "outputs": [],
   "source": [
    "oracle_cursor.execute(\"SELECT * FROM CART_ITEM\")\n",
    "results_cartItem = oracle_cursor.fetchall()\n",
    "\n",
    "cart_item = pd.DataFrame(results_cartItem, columns=[i[0] for i in oracle_cursor.description])"
   ]
  },
  {
   "attachments": {},
   "cell_type": "markdown",
   "metadata": {},
   "source": [
    "SHOPPING_SESSION"
   ]
  },
  {
   "cell_type": "code",
   "execution_count": 17,
   "metadata": {},
   "outputs": [],
   "source": [
    "oracle_cursor.execute(\"SELECT * FROM SHOPPING_SESSION\")\n",
    "results_shoppingSession = oracle_cursor.fetchall()\n",
    "\n",
    "shopping_session = pd.DataFrame(results_shoppingSession, columns=[i[0] for i in oracle_cursor.description])"
   ]
  },
  {
   "attachments": {},
   "cell_type": "markdown",
   "metadata": {},
   "source": [
    "----\n",
    "# Tratar os dados"
   ]
  },
  {
   "attachments": {},
   "cell_type": "markdown",
   "metadata": {},
   "source": [
    "----\n",
    "### 2. EMPLOYEES\n",
    "- Passar a ter um único documento para employees\n",
    "- Adicionar um campo de \"estado\" (antigo/atual)\n",
    "- Adicionar um campo de \"department_info\"\n"
   ]
  },
  {
   "cell_type": "code",
   "execution_count": 18,
   "metadata": {},
   "outputs": [],
   "source": [
    "# Iterar pelo EMPLOYEES_ARCHIVE e descontruir em 2 registos (um com o estado \"old\", e o outro com o estado \"active\")\n",
    "\n",
    "old_employees = []\n",
    "active_employees = []\n",
    "\n",
    "for index, row in employeesArchive.iterrows():\n",
    "    \n",
    "    if row['OLD_EMPLOYEE_ID'] is not None and not np.isnan(row['OLD_EMPLOYEE_ID']):\n",
    "        employee_info_old = {\n",
    "        \"emp_ID\": row['OLD_EMPLOYEE_ID'],\n",
    "        \"emp_firstName\": row['OLD_FIRST_NAME'],\n",
    "        \"emp_MiddleName\": row['OLD_MIDDLE_NAME'] if row['NEW_MIDDLE_NAME'] else '',\n",
    "        \"emp_LastName\": row['OLD_LAST_NAME'],\n",
    "        \"emp_dateOfBirth\": row['OLD_DATE_OF_BIRTH'].strftime('%Y-%m-%d %H:%M:%S'),\n",
    "        \"emp_departmentID\": row['OLD_DEPARTMENT_ID'],\n",
    "        \"emp_hireDate\": row['OLD_HIRE_DATE'].strftime('%Y-%m-%d %H:%M:%S'),\n",
    "        \"emp_salary\": row['OLD_SALARY'],\n",
    "        \"emp_phoneNumber\": row['OLD_PHONE_NUMBER'],\n",
    "        \"emp_Email\": row['OLD_EMAIL'],\n",
    "        \"emp_ssnNumber\": row['OLD_SSN_NUMBER'],\n",
    "        \"emp_managerID\": row['OLD_MANAGER_ID'] if row['OLD_MANAGER_ID'] else 0,\n",
    "        \"employee_state\": \"old\"\n",
    "    }\n",
    "        old_employees.append(employee_info_old)\n",
    "\n",
    "    employee_info_active = {\n",
    "            \"emp_ID\": row['NEW_EMPLOYEE_ID'],\n",
    "            \"emp_firstName\": row['NEW_FIRST_NAME'],\n",
    "            \"emp_MiddleName\": row['NEW_MIDDLE_NAME'] if row['NEW_MIDDLE_NAME'] else '',\n",
    "            \"emp_LastName\": row['NEW_LAST_NAME'],\n",
    "            \"emp_dateOfBirth\": row['NEW_DATE_OF_BIRTH'].strftime('%Y-%m-%d %H:%M:%S'),\n",
    "            \"emp_departmentID\": row['NEW_DEPARTMENT_ID'],\n",
    "            \"emp_hireDate\": row['NEW_HIRE_DATE'].strftime('%Y-%m-%d %H:%M:%S'),\n",
    "            \"emp_salary\": row['NEW_SALARY'],\n",
    "            \"emp_phoneNumber\": row['NEW_PHONE_NUMBER'],\n",
    "            \"emp_Email\": row['NEW_EMAIL'],\n",
    "            \"emp_ssnNumber\": row['NEW_SSN_NUMBER'],\n",
    "            \"emp_managerID\": row['NEW_MANAGER_ID'] if row['OLD_MANAGER_ID'] else 0,\n",
    "            \"employee_state\": \"active\"\n",
    "    }\n",
    "    active_employees.append(employee_info_active)"
   ]
  },
  {
   "attachments": {},
   "cell_type": "markdown",
   "metadata": {},
   "source": [
    "####"
   ]
  },
  {
   "attachments": {},
   "cell_type": "markdown",
   "metadata": {},
   "source": [
    "## Iniciar conexão com MongoDB"
   ]
  },
  {
   "cell_type": "code",
   "execution_count": 19,
   "metadata": {},
   "outputs": [],
   "source": [
    "import pymongo\n",
    "\n",
    "# Connect to MongoDB\n",
    "client = pymongo.MongoClient(\"mongodb://localhost:27017/\")\n",
    "\n",
    "# Create a database called \"oes\"\n",
    "database = client[\"oes\"]\n",
    "\n",
    "# Create collections\n",
    "collection_user = database[\"user\"]\n",
    "collection_product = database[\"product\"]\n",
    "collection_order = database[\"order\"]\n",
    "collection_employees = database[\"employees\"]"
   ]
  },
  {
   "attachments": {},
   "cell_type": "markdown",
   "metadata": {},
   "source": [
    "### EMPLOYEES - Enviar para o Mongo"
   ]
  },
  {
   "cell_type": "code",
   "execution_count": 20,
   "metadata": {},
   "outputs": [
    {
     "data": {
      "text/plain": [
       "<pymongo.results.InsertManyResult at 0x271a9449510>"
      ]
     },
     "execution_count": 20,
     "metadata": {},
     "output_type": "execute_result"
    }
   ],
   "source": [
    "# Convert the active_employees array into a list of employee documents\n",
    "employee_documents = []\n",
    "for employee in active_employees:\n",
    "    employee_documents.append(employee)\n",
    "\n",
    "# Insert the employee documents into the employees collection\n",
    "collection_employees.insert_many(employee_documents)"
   ]
  },
  {
   "attachments": {},
   "cell_type": "markdown",
   "metadata": {},
   "source": [
    "- Adicionar um campo para o departamento\n",
    "\n",
    "Nota: manager ID que estamos a ir buscar (proveniente do departamento) é diferente daquele que é fornecido no employee_archive"
   ]
  },
  {
   "cell_type": "code",
   "execution_count": 21,
   "metadata": {},
   "outputs": [
    {
     "name": "stdout",
     "output_type": "stream",
     "text": [
      "{'emp_ID': 1, 'emp_firstName': 'Kenon', 'emp_MiddleName': '', 'emp_LastName': 'Andries', 'emp_dateOfBirth': '1986-07-09 00:00:00', 'emp_hireDate': '2019-12-25 00:00:00', 'emp_salary': 9300, 'emp_phoneNumber': '279 266 4806', 'emp_Email': 'gandries0@google.de', 'emp_ssnNumber': '779-22-3853', 'emp_managerID': 0, 'employee_state': 'active', 'department_info': {'department_id': 1, 'department_name': 'Management', 'manager_id': 1, 'department_description': 'Supervision of other departments'}}\n",
      "{'emp_ID': 2, 'emp_firstName': 'Brittney', 'emp_MiddleName': 'Leonidas', 'emp_LastName': 'Dimitriou', 'emp_dateOfBirth': '1976-07-21 00:00:00', 'emp_hireDate': '2018-01-08 00:00:00', 'emp_salary': 11800, 'emp_phoneNumber': '604 235 4231', 'emp_Email': 'ldimitriou1@icio.us', 'emp_ssnNumber': '825-48-6752', 'emp_managerID': 0, 'employee_state': 'active', 'department_info': {'department_id': 2, 'department_name': 'Development', 'manager_id': 2, 'department_description': \"Developing of the store's website\"}}\n",
      "{'emp_ID': 3, 'emp_firstName': 'Elwin', 'emp_MiddleName': '', 'emp_LastName': 'Huckin', 'emp_dateOfBirth': '1978-07-31 00:00:00', 'emp_hireDate': '2018-03-15 00:00:00', 'emp_salary': 7400, 'emp_phoneNumber': '997 567 5550', 'emp_Email': 'bhuckin2@thetimes.co.uk', 'emp_ssnNumber': '797-73-9836', 'emp_managerID': 0, 'employee_state': 'active', 'department_info': {'department_id': 3, 'department_name': 'Purchase department', 'manager_id': 3, 'department_description': 'Management of assortment purchases and stock replenishment'}}\n",
      "{'emp_ID': 4, 'emp_firstName': 'Tierney', 'emp_MiddleName': 'Elsinore', 'emp_LastName': 'Powis', 'emp_dateOfBirth': '1987-02-10 00:00:00', 'emp_hireDate': '2018-11-13 00:00:00', 'emp_salary': 3700, 'emp_phoneNumber': '911 733 7882', 'emp_Email': 'epowis3@4shared.com', 'emp_ssnNumber': '857-99-2873', 'emp_managerID': 0, 'employee_state': 'active', 'department_info': {'department_id': 4, 'department_name': 'Sales department', 'manager_id': 4, 'department_description': 'Managing the sale of the assortment'}}\n",
      "{'emp_ID': 5, 'emp_firstName': 'Jone', 'emp_MiddleName': 'Lew', 'emp_LastName': 'Jirusek', 'emp_dateOfBirth': '1975-11-03 00:00:00', 'emp_hireDate': '2018-08-04 00:00:00', 'emp_salary': 7400, 'emp_phoneNumber': '563 147 3132', 'emp_Email': 'ljirusek4@psu.edu', 'emp_ssnNumber': '166-19-1878', 'emp_managerID': 0, 'employee_state': 'active', 'department_info': {'department_id': 2, 'department_name': 'Development', 'manager_id': 2, 'department_description': \"Developing of the store's website\"}}\n",
      "{'emp_ID': 6, 'emp_firstName': 'Clarine', 'emp_MiddleName': '', 'emp_LastName': 'Calliss', 'emp_dateOfBirth': '1991-09-10 00:00:00', 'emp_hireDate': '2020-03-30 00:00:00', 'emp_salary': 4400, 'emp_phoneNumber': '950 944 4973', 'emp_Email': 'mcalliss5@earthlink.net', 'emp_ssnNumber': '520-28-8208', 'emp_managerID': 0, 'employee_state': 'active', 'department_info': {'department_id': 2, 'department_name': 'Development', 'manager_id': 2, 'department_description': \"Developing of the store's website\"}}\n",
      "{'emp_ID': 7, 'emp_firstName': 'Edvard', 'emp_MiddleName': '', 'emp_LastName': 'Presho', 'emp_dateOfBirth': '1988-08-18 00:00:00', 'emp_hireDate': '2021-12-18 00:00:00', 'emp_salary': 5200, 'emp_phoneNumber': '826 896 0204', 'emp_Email': 'hpresho6@nature.com', 'emp_ssnNumber': '818-34-0837', 'emp_managerID': 0, 'employee_state': 'active', 'department_info': {'department_id': 3, 'department_name': 'Purchase department', 'manager_id': 3, 'department_description': 'Management of assortment purchases and stock replenishment'}}\n",
      "{'emp_ID': 8, 'emp_firstName': 'Dyan', 'emp_MiddleName': 'Nico', 'emp_LastName': 'Craxford', 'emp_dateOfBirth': '1991-07-31 00:00:00', 'emp_hireDate': '2018-03-02 00:00:00', 'emp_salary': 3700, 'emp_phoneNumber': '749 923 0075', 'emp_Email': 'ncraxford7@cisco.com', 'emp_ssnNumber': '622-33-9476', 'emp_managerID': 0, 'employee_state': 'active', 'department_info': {'department_id': 3, 'department_name': 'Purchase department', 'manager_id': 3, 'department_description': 'Management of assortment purchases and stock replenishment'}}\n",
      "{'emp_ID': 9, 'emp_firstName': 'Ansel', 'emp_MiddleName': 'Gordan', 'emp_LastName': 'Stanborough', 'emp_dateOfBirth': '1988-10-15 00:00:00', 'emp_hireDate': '2019-04-20 00:00:00', 'emp_salary': 11200, 'emp_phoneNumber': '912 579 7826', 'emp_Email': 'gstanborough8@webs.com', 'emp_ssnNumber': '810-49-5038', 'emp_managerID': 0, 'employee_state': 'active', 'department_info': {'department_id': 4, 'department_name': 'Sales department', 'manager_id': 4, 'department_description': 'Managing the sale of the assortment'}}\n",
      "{'emp_ID': 10, 'emp_firstName': 'Eileen', 'emp_MiddleName': 'Farra', 'emp_LastName': 'Sowerbutts', 'emp_dateOfBirth': '1972-07-06 00:00:00', 'emp_hireDate': '2018-03-26 00:00:00', 'emp_salary': 8300, 'emp_phoneNumber': '119 228 0037', 'emp_Email': 'fsowerbutts9@illinois.edu', 'emp_ssnNumber': '373-17-6842', 'emp_managerID': 0, 'employee_state': 'active', 'department_info': {'department_id': 4, 'department_name': 'Sales department', 'manager_id': 4, 'department_description': 'Managing the sale of the assortment'}}\n"
     ]
    }
   ],
   "source": [
    "for entry in active_employees:\n",
    "    id_employee = entry[\"emp_ID\"]\n",
    "\n",
    "    # Get the department ID for the current employee\n",
    "    dept_id = entry['emp_departmentID']\n",
    "\n",
    "    # Find the department information for the current department ID\n",
    "    dept_info = departments.query(\"DEPARTMENT_ID == @dept_id\").iloc[0]\n",
    "\n",
    "    departmentId = dept_info[\"DEPARTMENT_ID\"]\n",
    "    departmentName = dept_info['DEPARTMENT_NAME']\n",
    "    managerId = dept_info['MANAGER_ID']\n",
    "    departmentDescription = dept_info['DEPARTMENT_DESC']\n",
    "   \n",
    "    # Create a new dictionary with the department information\n",
    "    new_field = {\n",
    "        \"department_id\": int(departmentId),\n",
    "        \"department_name\": departmentName,\n",
    "        \"manager_id\": int(managerId),\n",
    "        \"department_description\": departmentDescription\n",
    "    }\n",
    "\n",
    "    # Update the \"department_info\" field in the current employee dictionary\n",
    "    entry[\"department_info\"] = new_field\n",
    "    del entry[\"emp_departmentID\"]\n",
    "    if entry[\"_id\"]: \n",
    "        del entry[\"_id\"]\n",
    "    \n",
    "    collection_employees.update_one({\"emp_ID\": id_employee}, {'$set': {\"department_info\": new_field}})\n",
    "\n",
    "    print(entry)\n"
   ]
  },
  {
   "attachments": {},
   "cell_type": "markdown",
   "metadata": {},
   "source": [
    "----\n",
    "### 3. PRODUCT\n",
    "- Passar a ter um único documento para products\n",
    "- Adicionar um campo de Category\n",
    "- Adicionar um campo de Discount\n",
    "- Adicionar um campo de Stock"
   ]
  },
  {
   "cell_type": "code",
   "execution_count": 22,
   "metadata": {},
   "outputs": [
    {
     "data": {
      "text/plain": [
       "<pymongo.results.InsertManyResult at 0x271a93e75e0>"
      ]
     },
     "execution_count": 22,
     "metadata": {},
     "output_type": "execute_result"
    }
   ],
   "source": [
    "product_documents = []\n",
    "\n",
    "for index, row in product.iterrows():\n",
    "    productObj = {\n",
    "        \"product_ID\": row['PRODUCT_ID'],\n",
    "        \"product_name\": row['PRODUCT_NAME'],\n",
    "        \"product_categoryID\": row['CATEGORY_ID'],\n",
    "        \"product_sku\": row['SKU'],\n",
    "        \"product_price\": row['PRICE'],\n",
    "        \"product_discountId\": int(row['DISCOUNT_ID']) if not math.isnan(row['DISCOUNT_ID']) else 0,\n",
    "        \"product_createdAt\": row['CREATED_AT'].strftime('%Y-%m-%d %H:%M:%S') if not pd.isnull(row['CREATED_AT']) else '2022-07-01 09:57:48',\n",
    "        \"product_lastModified\": row['LAST_MODIFIED'].strftime('%Y-%m-%d %H:%M:%S') if not pd.isnull(row['LAST_MODIFIED']) else '2022-07-01 09:57:48'\n",
    "    }\n",
    "    \n",
    "    product_documents.append(productObj)\n",
    "    \n",
    "collection_product.insert_many(product_documents)    "
   ]
  },
  {
   "attachments": {},
   "cell_type": "markdown",
   "metadata": {},
   "source": [
    "- Adicionar campos category, discount, stock"
   ]
  },
  {
   "cell_type": "code",
   "execution_count": 23,
   "metadata": {},
   "outputs": [],
   "source": [
    "for row in product_documents:\n",
    "    \n",
    "    productID = row['product_ID']\n",
    "   \n",
    "    category_row = productCategories.loc[productCategories[\"CATEGORY_ID\"] == row['product_categoryID']].iloc[0]\n",
    "    new_category = {\n",
    "        \"category_ID\": int(category_row['CATEGORY_ID']),\n",
    "        \"category_name\": category_row['CATEGORY_NAME'],\n",
    "    }\n",
    "\n",
    "    collection_product.update_one({\"product_ID\": productID}, {'$set': {\"product_category\": new_category}})\n",
    "\n",
    "    stock_row = stock.loc[stock[\"PRODUCT_ID\"] == productID].iloc[0]\n",
    "    new_stock = {\n",
    "        \"quantity\": int(stock_row['QUANTITY']),\n",
    "        \"max_stock_quantity\": int(stock_row['MAX_STOCK_QUANTITY']),\n",
    "        \"unit\": stock_row['UNIT']\n",
    "    }\n",
    "    \n",
    "    collection_product.update_one({\"product_ID\": productID}, {'$set': {\"product_stock\": new_stock}})\n",
    "\n",
    "\n",
    "\n",
    "    if row[\"_id\"]: \n",
    "        del row[\"_id\"]\n",
    "\n",
    "\n",
    "    discount_row = {}\n",
    "    if row['product_discountId'] != 0:\n",
    "        discount_row = discount.loc[discount[\"DISCOUNT_ID\"] == row['product_discountId']].iloc[0]\n",
    "        new_discount = {\n",
    "            \"discount_id\": int(discount_row['DISCOUNT_ID']),\n",
    "            \"discount_name\": discount_row['DISCOUNT_NAME'],\n",
    "            \"discount_desc\": discount_row['DISCOUNT_DESC'],\n",
    "            \"discount_percent\": int(discount_row['DISCOUNT_PERCENT']),\n",
    "            \"discount_is_active_status\": discount_row['IS_ACTIVE_STATUS'],\n",
    "            \"discount_createdAt\": discount_row['CREATED_AT'] if not pd.isnull(discount_row['CREATED_AT']) else '2022-07-01 09:57:48',\n",
    "            \"discount_modifiedAt\": discount_row['MODIFIED_AT'] if not pd.isnull(discount_row['MODIFIED_AT']) else '2022-07-01 09:57:48',\n",
    "        }\n",
    "        collection_product.update_one({\"product_ID\": productID}, {'$set': {\"product_discount\": new_discount}})"
   ]
  }
 ],
 "metadata": {
  "kernelspec": {
   "display_name": "Python 3",
   "language": "python",
   "name": "python3"
  },
  "language_info": {
   "codemirror_mode": {
    "name": "ipython",
    "version": 3
   },
   "file_extension": ".py",
   "mimetype": "text/x-python",
   "name": "python",
   "nbconvert_exporter": "python",
   "pygments_lexer": "ipython3",
   "version": "3.10.11"
  },
  "orig_nbformat": 4
 },
 "nbformat": 4,
 "nbformat_minor": 2
}
