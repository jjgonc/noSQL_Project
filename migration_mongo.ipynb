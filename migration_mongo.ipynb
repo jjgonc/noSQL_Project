{
 "cells": [
  {
   "attachments": {},
   "cell_type": "markdown",
   "metadata": {},
   "source": [
    "### Imports"
   ]
  },
  {
   "cell_type": "code",
   "execution_count": 1,
   "metadata": {},
   "outputs": [],
   "source": [
    "import pandas as pd\n",
    "import numpy as np\n",
    "import pymongo\n",
    "import json\n",
    "import collections\n",
    "import math\n",
    "from datetime import date, datetime\n",
    "import cx_Oracle\n",
    "\n",
    "# path da instalação do instantclient\n",
    "cx_Oracle.init_oracle_client(lib_dir=r\"C:\\instantclient_21_9\")"
   ]
  },
  {
   "attachments": {},
   "cell_type": "markdown",
   "metadata": {},
   "source": [
    "### Estabelecer conexão"
   ]
  },
  {
   "cell_type": "code",
   "execution_count": 2,
   "metadata": {},
   "outputs": [],
   "source": [
    "# Conectar ao Oracle\n",
    "dsn_tns = cx_Oracle.makedsn('localhost', '1521', service_name='xe')\n",
    "conn = cx_Oracle.connect(user='store', password='uminho2023', dsn=dsn_tns)"
   ]
  },
  {
   "attachments": {},
   "cell_type": "markdown",
   "metadata": {},
   "source": [
    "### Selecionar dados das tabelas"
   ]
  },
  {
   "cell_type": "code",
   "execution_count": 3,
   "metadata": {},
   "outputs": [],
   "source": [
    "oracle_cursor = conn.cursor()"
   ]
  },
  {
   "attachments": {},
   "cell_type": "markdown",
   "metadata": {},
   "source": [
    "----\n",
    "Grupo 1: USER\n",
    "\n",
    "STORE_USERS"
   ]
  },
  {
   "cell_type": "code",
   "execution_count": 4,
   "metadata": {},
   "outputs": [],
   "source": [
    "oracle_cursor.execute(\"SELECT * FROM STORE_USERS\")\n",
    "results_storeUsers = oracle_cursor.fetchall()\n",
    "\n",
    "store_users = pd.DataFrame(results_storeUsers, columns=[i[0] for i in oracle_cursor.description])"
   ]
  },
  {
   "attachments": {},
   "cell_type": "markdown",
   "metadata": {},
   "source": [
    "ADDRESSES"
   ]
  },
  {
   "cell_type": "code",
   "execution_count": 5,
   "metadata": {},
   "outputs": [],
   "source": [
    "oracle_cursor.execute(\"SELECT * FROM ADDRESSES\")\n",
    "results_addresses = oracle_cursor.fetchall()\n",
    "\n",
    "addresses = pd.DataFrame(results_addresses, columns=[i[0] for i in oracle_cursor.description])"
   ]
  },
  {
   "attachments": {},
   "cell_type": "markdown",
   "metadata": {},
   "source": [
    "----\n",
    "Grupo 2: EMPLOYEES\n",
    "\n",
    "EMPLOYEES"
   ]
  },
  {
   "cell_type": "code",
   "execution_count": 6,
   "metadata": {},
   "outputs": [],
   "source": [
    "oracle_cursor.execute(\"SELECT * FROM EMPLOYEES\")\n",
    "results_employees = oracle_cursor.fetchall()\n",
    "\n",
    "employees = pd.DataFrame(results_employees, columns=[i[0] for i in oracle_cursor.description])"
   ]
  },
  {
   "attachments": {},
   "cell_type": "markdown",
   "metadata": {},
   "source": [
    "DEPARTMENTS"
   ]
  },
  {
   "cell_type": "code",
   "execution_count": 7,
   "metadata": {},
   "outputs": [],
   "source": [
    "oracle_cursor.execute(\"SELECT * FROM DEPARTMENTS\")\n",
    "results_departments = oracle_cursor.fetchall()\n",
    "\n",
    "departments = pd.DataFrame(results_departments, columns=[i[0] for i in oracle_cursor.description])"
   ]
  },
  {
   "attachments": {},
   "cell_type": "markdown",
   "metadata": {},
   "source": [
    "EMPLOYEES_ARCHIVE"
   ]
  },
  {
   "cell_type": "code",
   "execution_count": 8,
   "metadata": {},
   "outputs": [],
   "source": [
    "oracle_cursor.execute(\"SELECT * FROM EMPLOYEES_ARCHIVE\")\n",
    "results_employeesArchive = oracle_cursor.fetchall()\n",
    "\n",
    "employeesArchive = pd.DataFrame(results_employeesArchive, columns=[i[0] for i in oracle_cursor.description])"
   ]
  },
  {
   "attachments": {},
   "cell_type": "markdown",
   "metadata": {},
   "source": [
    "----\n",
    "Grupo 3: PRODUCT  \n",
    "\n",
    "PRODUCT"
   ]
  },
  {
   "cell_type": "code",
   "execution_count": 9,
   "metadata": {},
   "outputs": [],
   "source": [
    "oracle_cursor.execute(\"SELECT * FROM PRODUCT\")\n",
    "results_product = oracle_cursor.fetchall()\n",
    "\n",
    "product = pd.DataFrame(results_product, columns=[i[0] for i in oracle_cursor.description])"
   ]
  },
  {
   "attachments": {},
   "cell_type": "markdown",
   "metadata": {},
   "source": [
    "PRODUCT_CATEGORIES"
   ]
  },
  {
   "cell_type": "code",
   "execution_count": 10,
   "metadata": {},
   "outputs": [],
   "source": [
    "oracle_cursor.execute(\"SELECT * FROM PRODUCT_CATEGORIES\")\n",
    "results_productCategories = oracle_cursor.fetchall()\n",
    "\n",
    "productCategories = pd.DataFrame(results_productCategories, columns=[i[0] for i in oracle_cursor.description])"
   ]
  },
  {
   "attachments": {},
   "cell_type": "markdown",
   "metadata": {},
   "source": [
    "DISCOUNT"
   ]
  },
  {
   "cell_type": "code",
   "execution_count": 11,
   "metadata": {},
   "outputs": [],
   "source": [
    "oracle_cursor.execute(\"SELECT * FROM DISCOUNT\")\n",
    "results_discount = oracle_cursor.fetchall()\n",
    "\n",
    "discount = pd.DataFrame(results_discount, columns=[i[0] for i in oracle_cursor.description])"
   ]
  },
  {
   "attachments": {},
   "cell_type": "markdown",
   "metadata": {},
   "source": [
    "STOCK"
   ]
  },
  {
   "cell_type": "code",
   "execution_count": 12,
   "metadata": {},
   "outputs": [],
   "source": [
    "oracle_cursor.execute(\"SELECT * FROM STOCK\")\n",
    "results_stock = oracle_cursor.fetchall()\n",
    "\n",
    "stock = pd.DataFrame(results_stock, columns=[i[0] for i in oracle_cursor.description])"
   ]
  },
  {
   "attachments": {},
   "cell_type": "markdown",
   "metadata": {},
   "source": [
    "----\n",
    "Grupo 4: ORDER  \n",
    "  \n",
    "  \n",
    "PAYMENT_DETAILS"
   ]
  },
  {
   "cell_type": "code",
   "execution_count": 13,
   "metadata": {},
   "outputs": [],
   "source": [
    "oracle_cursor.execute(\"SELECT * FROM PAYMENT_DETAILS\")\n",
    "results_paymentDetails = oracle_cursor.fetchall()\n",
    "\n",
    "payment_details = pd.DataFrame(results_paymentDetails, columns=[i[0] for i in oracle_cursor.description])"
   ]
  },
  {
   "attachments": {},
   "cell_type": "markdown",
   "metadata": {},
   "source": [
    "ORDER_DETAILS"
   ]
  },
  {
   "cell_type": "code",
   "execution_count": 14,
   "metadata": {},
   "outputs": [],
   "source": [
    "oracle_cursor.execute(\"SELECT * FROM ORDER_DETAILS\")\n",
    "results_orderDetails = oracle_cursor.fetchall()\n",
    "\n",
    "order_details = pd.DataFrame(results_orderDetails, columns=[i[0] for i in oracle_cursor.description])"
   ]
  },
  {
   "attachments": {},
   "cell_type": "markdown",
   "metadata": {},
   "source": [
    "ORDER_ITEMS"
   ]
  },
  {
   "cell_type": "code",
   "execution_count": 15,
   "metadata": {},
   "outputs": [],
   "source": [
    "oracle_cursor.execute(\"SELECT * FROM ORDER_ITEMS\")\n",
    "results_orderItems = oracle_cursor.fetchall()\n",
    "\n",
    "order_items = pd.DataFrame(results_orderItems, columns=[i[0] for i in oracle_cursor.description])"
   ]
  },
  {
   "attachments": {},
   "cell_type": "markdown",
   "metadata": {},
   "source": [
    "CART_ITEM"
   ]
  },
  {
   "cell_type": "code",
   "execution_count": 16,
   "metadata": {},
   "outputs": [],
   "source": [
    "oracle_cursor.execute(\"SELECT * FROM CART_ITEM\")\n",
    "results_cartItem = oracle_cursor.fetchall()\n",
    "\n",
    "cart_item = pd.DataFrame(results_cartItem, columns=[i[0] for i in oracle_cursor.description])"
   ]
  },
  {
   "attachments": {},
   "cell_type": "markdown",
   "metadata": {},
   "source": [
    "SHOPPING_SESSION"
   ]
  },
  {
   "cell_type": "code",
   "execution_count": 17,
   "metadata": {},
   "outputs": [],
   "source": [
    "oracle_cursor.execute(\"SELECT * FROM SHOPPING_SESSION\")\n",
    "results_shoppingSession = oracle_cursor.fetchall()\n",
    "\n",
    "shopping_session = pd.DataFrame(results_shoppingSession, columns=[i[0] for i in oracle_cursor.description])"
   ]
  },
  {
   "attachments": {},
   "cell_type": "markdown",
   "metadata": {},
   "source": [
    "----\n",
    "# Tratar os dados"
   ]
  },
  {
   "attachments": {},
   "cell_type": "markdown",
   "metadata": {},
   "source": [
    "----\n",
    "### 1. USER\n",
    "- Store\\_users em que cada user contem informação dos seus Addresses\n",
    "- Adicionar o campo shopping_session: Contém as sessões criadas pelo utilizador.\n",
    "- Adicionar o campo cart_item dentro da shopping_session: Contém os produtos adicionados ao carrinho pelo cliente numa determinada\n",
    "sessão."
   ]
  },
  {
   "attachments": {},
   "cell_type": "markdown",
   "metadata": {},
   "source": [
    "### Iniciar conexão com o MongoDB"
   ]
  },
  {
   "cell_type": "code",
   "execution_count": 18,
   "metadata": {},
   "outputs": [],
   "source": [
    "import pymongo\n",
    "\n",
    "# Connect to MongoDB\n",
    "client = pymongo.MongoClient(\"mongodb://localhost:27017/\")\n",
    "\n",
    "# Create a database called \"oes\"\n",
    "database = client[\"oes\"]\n",
    "\n",
    "# Create collections\n",
    "collection_user = database[\"user\"]\n",
    "collection_product = database[\"product\"]\n",
    "collection_order = database[\"order\"]\n",
    "collection_employees = database[\"employees\"]"
   ]
  },
  {
   "attachments": {},
   "cell_type": "markdown",
   "metadata": {},
   "source": [
    "USER - Enviar para o Mongo"
   ]
  },
  {
   "cell_type": "code",
   "execution_count": 19,
   "metadata": {},
   "outputs": [
    {
     "data": {
      "text/plain": [
       "<pymongo.results.InsertManyResult at 0x1c02c3dd2d0>"
      ]
     },
     "execution_count": 19,
     "metadata": {},
     "output_type": "execute_result"
    }
   ],
   "source": [
    "user_documents = []\n",
    "\n",
    "for index, row in store_users.iterrows():\n",
    "    userObj = {\n",
    "        \"user_ID\": row['USER_ID'],\n",
    "        \"user_firstName\": row['FIRST_NAME'],\n",
    "        \"user_middleName\": row['MIDDLE_NAME'] if row['MIDDLE_NAME'] else '',\n",
    "        \"user_lastName\": row['LAST_NAME'],\n",
    "        \"user_phoneNumber\": row['PHONE_NUMBER'],\n",
    "        \"user_email\": row['EMAIL'],\n",
    "        \"user_username\": row['USERNAME'],\n",
    "        \"user_password\": row['USER_PASSWORD'],\n",
    "        \"user_registeredAt\": row['REGISTERED_AT'].strftime('%Y-%m-%d %H:%M:%S') if not pd.isnull(row['REGISTERED_AT']) else '2022-07-01 09:57:48',\n",
    "    }\n",
    "    \n",
    "    user_documents.append(userObj)\n",
    "    \n",
    "collection_user.insert_many(user_documents)    "
   ]
  },
  {
   "attachments": {},
   "cell_type": "markdown",
   "metadata": {},
   "source": [
    "- Adicionar o campo Shopping_session\n",
    "- Adicionar o campo cart_item às shopping_sessions do user"
   ]
  },
  {
   "cell_type": "code",
   "execution_count": 20,
   "metadata": {},
   "outputs": [],
   "source": [
    "# Dicionário para armazenar os arrays de sessões de para cada user\n",
    "sessions_por_user = collections.defaultdict(list)\n",
    "\n",
    "for index, row in shopping_session.iterrows():\n",
    "    userID = row['USER_ID']\n",
    "    \n",
    "    newShoppingSession = {\n",
    "        \"session_ID\": row['SESSION_ID'],\n",
    "        \"session_userID\": row['USER_ID'],\n",
    "        \"session_createdAt\": row['CREATED_AT'].strftime('%Y-%m-%d %H:%M:%S') if not pd.isnull(row['CREATED_AT']) else '2022-07-01 09:57:48',\n",
    "        \"session_modifiedAt\": row['MODIFIED_AT'].strftime('%Y-%m-%d %H:%M:%S') if not pd.isnull(row['MODIFIED_AT']) else '2022-07-01 09:57:48'\n",
    "    }\n",
    "\n",
    "    # Adicionar a sessão ao array de sessões associadas ao user\n",
    "    sessions_por_user[userID].append(newShoppingSession)\n",
    "\n",
    "\n",
    "for index, row in cart_item.iterrows():\n",
    "    sessionID = row['SESSION_ID']\n",
    "    session_row = shopping_session.loc[shopping_session[\"SESSION_ID\"] == sessionID].iloc[0]\n",
    "    userID = session_row['USER_ID']\n",
    "    \n",
    "\n",
    "    newCartItem = {\n",
    "        \"cartItem_ID\": row['CART_ITEM_ID'],\n",
    "        \"cartItem_sessionID\": row['SESSION_ID'],\n",
    "        \"cartItem_productID\": row['PRODUCT_ID'],\n",
    "        \"cartItem_quantity\": row['QUANTITY'],\n",
    "        \"cartItem_createdAt\": row['CREATED_AT'].strftime('%Y-%m-%d %H:%M:%S') if not pd.isnull(row['CREATED_AT']) else '2022-07-01 09:57:48',\n",
    "        \"cartItem_modifiedAt\": row['MODIFIED_AT'].strftime('%Y-%m-%d %H:%M:%S') if not pd.isnull(row['MODIFIED_AT']) else '2022-07-01 09:57:48'\n",
    "    }\n",
    "\n",
    "    # Find the user's session array and append newCartItem\n",
    "    for session in sessions_por_user[userID]:\n",
    "        if session[\"session_ID\"] == sessionID:\n",
    "            session.setdefault(\"cart_items\", []).append(newCartItem)\n",
    "            break\n",
    "\n",
    "\n",
    "# Atualizar cada USER com o array de sessões associadas\n",
    "for userID, sessions in sessions_por_user.items():\n",
    "    collection_user.update_one({\"user_ID\": userID}, {'$set': {\"shopping_sessions\": sessions}})\n"
   ]
  },
  {
   "attachments": {},
   "cell_type": "markdown",
   "metadata": {},
   "source": [
    "----\n",
    "### 2. EMPLOYEES\n",
    "- Passar a ter um único documento para employees\n",
    "- Adicionar um campo de \"estado\" (antigo/atual)\n",
    "- Adicionar um campo de \"department_info\"\n"
   ]
  },
  {
   "cell_type": "code",
   "execution_count": 22,
   "metadata": {},
   "outputs": [],
   "source": [
    "# Iterar pelo EMPLOYEES_ARCHIVE e descontruir em 2 registos (um com o estado \"old\", e o outro com o estado \"active\")\n",
    "\n",
    "old_employees = []\n",
    "active_employees = []\n",
    "\n",
    "for index, row in employeesArchive.iterrows():\n",
    "    \n",
    "    if row['OLD_EMPLOYEE_ID'] is not None and not np.isnan(row['OLD_EMPLOYEE_ID']):\n",
    "        employee_info_old = {\n",
    "        \"emp_ID\": row['OLD_EMPLOYEE_ID'],\n",
    "        \"emp_firstName\": row['OLD_FIRST_NAME'],\n",
    "        \"emp_MiddleName\": row['OLD_MIDDLE_NAME'] if row['OLD_MIDDLE_NAME'] else '',\n",
    "        \"emp_LastName\": row['OLD_LAST_NAME'],\n",
    "        \"emp_dateOfBirth\": row['OLD_DATE_OF_BIRTH'].strftime('%Y-%m-%d %H:%M:%S'),\n",
    "        \"emp_departmentID\": row['OLD_DEPARTMENT_ID'],\n",
    "        \"emp_hireDate\": row['OLD_HIRE_DATE'].strftime('%Y-%m-%d %H:%M:%S'),\n",
    "        \"emp_salary\": row['OLD_SALARY'],\n",
    "        \"emp_phoneNumber\": row['OLD_PHONE_NUMBER'],\n",
    "        \"emp_Email\": row['OLD_EMAIL'],\n",
    "        \"emp_ssnNumber\": row['OLD_SSN_NUMBER'],\n",
    "        \"emp_managerID\": row['OLD_MANAGER_ID'] if not math.isnan(row['OLD_MANAGER_ID']) else 0,\n",
    "        \"employee_state\": \"old\"\n",
    "    }\n",
    "        old_employees.append(employee_info_old)\n",
    "\n",
    "    employee_info_active = {\n",
    "            \"emp_ID\": row['NEW_EMPLOYEE_ID'],\n",
    "            \"emp_firstName\": row['NEW_FIRST_NAME'],\n",
    "            \"emp_MiddleName\": row['NEW_MIDDLE_NAME'] if row['NEW_MIDDLE_NAME'] else '',\n",
    "            \"emp_LastName\": row['NEW_LAST_NAME'],\n",
    "            \"emp_dateOfBirth\": row['NEW_DATE_OF_BIRTH'].strftime('%Y-%m-%d %H:%M:%S'),\n",
    "            \"emp_departmentID\": row['NEW_DEPARTMENT_ID'],\n",
    "            \"emp_hireDate\": row['NEW_HIRE_DATE'].strftime('%Y-%m-%d %H:%M:%S'),\n",
    "            \"emp_salary\": row['NEW_SALARY'],\n",
    "            \"emp_phoneNumber\": row['NEW_PHONE_NUMBER'],\n",
    "            \"emp_Email\": row['NEW_EMAIL'],\n",
    "            \"emp_ssnNumber\": row['NEW_SSN_NUMBER'],\n",
    "            \"emp_managerID\": row['NEW_MANAGER_ID'] if not math.isnan(row['NEW_MANAGER_ID']) else 0,\n",
    "            \"employee_state\": \"active\"\n",
    "    }\n",
    "    active_employees.append(employee_info_active)"
   ]
  },
  {
   "attachments": {},
   "cell_type": "markdown",
   "metadata": {},
   "source": [
    "####"
   ]
  },
  {
   "attachments": {},
   "cell_type": "markdown",
   "metadata": {},
   "source": [
    "### EMPLOYEES - Enviar para o Mongo"
   ]
  },
  {
   "cell_type": "code",
   "execution_count": 23,
   "metadata": {},
   "outputs": [
    {
     "data": {
      "text/plain": [
       "<pymongo.results.InsertManyResult at 0x1c02e7162c0>"
      ]
     },
     "execution_count": 23,
     "metadata": {},
     "output_type": "execute_result"
    }
   ],
   "source": [
    "# Convert the active_employees array into a list of employee documents\n",
    "employee_documents = []\n",
    "for employee in active_employees:\n",
    "    employee_documents.append(employee)\n",
    "\n",
    "# Insert the employee documents into the employees collection\n",
    "collection_employees.insert_many(employee_documents)"
   ]
  },
  {
   "attachments": {},
   "cell_type": "markdown",
   "metadata": {},
   "source": [
    "- Adicionar um campo para o departamento\n",
    "\n",
    "Nota: manager ID que estamos a ir buscar (proveniente do departamento) é diferente daquele que é fornecido no employee_archive"
   ]
  },
  {
   "cell_type": "code",
   "execution_count": 24,
   "metadata": {},
   "outputs": [],
   "source": [
    "for entry in active_employees:\n",
    "    id_employee = entry[\"emp_ID\"]\n",
    "\n",
    "    # Get the department ID for the current employee\n",
    "    dept_id = entry['emp_departmentID']\n",
    "\n",
    "    # Find the department information for the current department ID\n",
    "    dept_info = departments.query(\"DEPARTMENT_ID == @dept_id\").iloc[0]\n",
    "\n",
    "    if not dept_info.empty:\n",
    "        departmentId = dept_info[\"DEPARTMENT_ID\"]\n",
    "        departmentName = dept_info['DEPARTMENT_NAME']\n",
    "        managerId = dept_info['MANAGER_ID'] if dept_info['MANAGER_ID'] else 0\n",
    "        departmentDescription = dept_info['DEPARTMENT_DESC']\n",
    "    \n",
    "        # Create a new dictionary with the department information\n",
    "        new_field = {\n",
    "            \"department_id\": int(departmentId),\n",
    "            \"department_name\": departmentName,\n",
    "            \"manager_id\": int(managerId),\n",
    "            \"department_description\": departmentDescription\n",
    "        }\n",
    "\n",
    "        # Update the \"department_info\" field in the current employee dictionary\n",
    "        entry[\"department_info\"] = new_field\n",
    "        del entry[\"emp_departmentID\"]\n",
    "        if entry[\"_id\"]: \n",
    "            del entry[\"_id\"]\n",
    "        \n",
    "        collection_employees.update_one({\"emp_ID\": id_employee}, {'$set': {\"department_info\": new_field}})\n",
    "    else: \n",
    "        pass"
   ]
  },
  {
   "attachments": {},
   "cell_type": "markdown",
   "metadata": {},
   "source": [
    "----\n",
    "### 3. PRODUCT\n",
    "- Passar a ter um único documento para products\n",
    "- Adicionar um campo de Category\n",
    "- Adicionar um campo de Discount\n",
    "- Adicionar um campo de Stock"
   ]
  },
  {
   "cell_type": "code",
   "execution_count": 25,
   "metadata": {},
   "outputs": [
    {
     "data": {
      "text/plain": [
       "<pymongo.results.InsertManyResult at 0x1c02d049c60>"
      ]
     },
     "execution_count": 25,
     "metadata": {},
     "output_type": "execute_result"
    }
   ],
   "source": [
    "product_documents = []\n",
    "\n",
    "for index, row in product.iterrows():\n",
    "    productObj = {\n",
    "        \"product_ID\": row['PRODUCT_ID'],\n",
    "        \"product_name\": row['PRODUCT_NAME'],\n",
    "        \"product_categoryID\": row['CATEGORY_ID'],\n",
    "        \"product_sku\": row['SKU'],\n",
    "        \"product_price\": row['PRICE'],\n",
    "        \"product_discountId\": int(row['DISCOUNT_ID']) if not math.isnan(row['DISCOUNT_ID']) else 0,\n",
    "        \"product_createdAt\": row['CREATED_AT'].strftime('%Y-%m-%d %H:%M:%S') if not pd.isnull(row['CREATED_AT']) else '2022-07-01 09:57:48',\n",
    "        \"product_lastModified\": row['LAST_MODIFIED'].strftime('%Y-%m-%d %H:%M:%S') if not pd.isnull(row['LAST_MODIFIED']) else '2022-07-01 09:57:48'\n",
    "    }\n",
    "    \n",
    "    product_documents.append(productObj)\n",
    "    \n",
    "collection_product.insert_many(product_documents)    "
   ]
  },
  {
   "attachments": {},
   "cell_type": "markdown",
   "metadata": {},
   "source": [
    "- Adicionar campos category, discount, stock;  \n",
    " PRODUCT - Enviar para o Mongo"
   ]
  },
  {
   "cell_type": "code",
   "execution_count": 26,
   "metadata": {},
   "outputs": [],
   "source": [
    "for row in product_documents:\n",
    "    \n",
    "    productID = row['product_ID']\n",
    "   \n",
    "    category_row = productCategories.loc[productCategories[\"CATEGORY_ID\"] == row['product_categoryID']].iloc[0]\n",
    "    new_category = {\n",
    "        \"category_ID\": int(category_row['CATEGORY_ID']),\n",
    "        \"category_name\": category_row['CATEGORY_NAME'],\n",
    "    }\n",
    "\n",
    "    collection_product.update_one({\"product_ID\": productID}, {'$set': {\"product_category\": new_category}})\n",
    "\n",
    "    stock_row = stock.loc[stock[\"PRODUCT_ID\"] == productID].iloc[0]\n",
    "    new_stock = {\n",
    "        \"quantity\": int(stock_row['QUANTITY']),\n",
    "        \"max_stock_quantity\": int(stock_row['MAX_STOCK_QUANTITY']),\n",
    "        \"unit\": stock_row['UNIT']\n",
    "    }\n",
    "    \n",
    "    collection_product.update_one({\"product_ID\": productID}, {'$set': {\"product_stock\": new_stock}})\n",
    "\n",
    "\n",
    "\n",
    "    if row[\"_id\"]: \n",
    "        del row[\"_id\"]\n",
    "\n",
    "\n",
    "    discount_row = {}\n",
    "    if row['product_discountId'] != 0:\n",
    "        discount_row = discount.loc[discount[\"DISCOUNT_ID\"] == row['product_discountId']].iloc[0]\n",
    "        new_discount = {\n",
    "            \"discount_id\": int(discount_row['DISCOUNT_ID']),\n",
    "            \"discount_name\": discount_row['DISCOUNT_NAME'],\n",
    "            \"discount_desc\": discount_row['DISCOUNT_DESC'],\n",
    "            \"discount_percent\": int(discount_row['DISCOUNT_PERCENT']),\n",
    "            \"discount_is_active_status\": discount_row['IS_ACTIVE_STATUS'],\n",
    "            \"discount_createdAt\": discount_row['CREATED_AT'] if not pd.isnull(discount_row['CREATED_AT']) else '2022-07-01 09:57:48',\n",
    "            \"discount_modifiedAt\": discount_row['MODIFIED_AT'] if not pd.isnull(discount_row['MODIFIED_AT']) else '2022-07-01 09:57:48',\n",
    "        }\n",
    "        collection_product.update_one({\"product_ID\": productID}, {'$set': {\"product_discount\": new_discount}})"
   ]
  },
  {
   "attachments": {},
   "cell_type": "markdown",
   "metadata": {},
   "source": [
    "----\n",
    "### 4. ORDER\n",
    "- Adicionar o campo order_details: Detalhes do pedido do utilizador.\n",
    "- Adicionar o campo order_items: Contém os produtos do pedido feito pelo utilizador.\n",
    "- Adicionar o campo payment_details: Contém os detalhes de pagamento do pedido.\n",
    "- Adicionar o campo address"
   ]
  },
  {
   "attachments": {},
   "cell_type": "markdown",
   "metadata": {},
   "source": [
    "- order_details"
   ]
  },
  {
   "cell_type": "code",
   "execution_count": 27,
   "metadata": {},
   "outputs": [
    {
     "data": {
      "text/plain": [
       "<pymongo.results.InsertManyResult at 0x1c02c3dd5d0>"
      ]
     },
     "execution_count": 27,
     "metadata": {},
     "output_type": "execute_result"
    }
   ],
   "source": [
    "order_documents = []\n",
    "\n",
    "for index, row in order_details.iterrows():\n",
    "    orderObj = {\n",
    "        \"order_detailsID\": row['ORDER_DETAILS_ID'],\n",
    "        \"order_userID\": row['USER_ID'],\n",
    "        \"order_total\": row['TOTAL'],\n",
    "        \"order_paymentID\": row['PAYMENT_ID'],\n",
    "        \"order_shippingMethod\": row['SHIPPING_METHOD'],\n",
    "        \"order_deliveryAddressID\": row['DELIVERY_ADRESS_ID'],\n",
    "        \"order_createdAt\": row['CREATED_AT'].strftime('%Y-%m-%d %H:%M:%S') if not pd.isnull(row['CREATED_AT']) else '2022-07-01 09:57:48',\n",
    "        \"order_modifiedAt\": row['MODIFIED_AT'].strftime('%Y-%m-%d %H:%M:%S') if not pd.isnull(row['MODIFIED_AT']) else '2022-07-01 09:57:48'\n",
    "    }\n",
    "\n",
    "    order_documents.append(orderObj)\n",
    "    \n",
    "collection_order.insert_many(order_documents)    "
   ]
  },
  {
   "attachments": {},
   "cell_type": "markdown",
   "metadata": {},
   "source": [
    "-Adicionar campo order_items"
   ]
  },
  {
   "cell_type": "code",
   "execution_count": 28,
   "metadata": {},
   "outputs": [],
   "source": [
    "# Dicionário para armazenar os arrays de items(objetos) para cada pedido\n",
    "items_por_order = collections.defaultdict(list)\n",
    "\n",
    "for index, row in order_items.iterrows():\n",
    "    orderDetailsID = row['ORDER_DETAILS_ID']\n",
    "    \n",
    "    new_orderItem = {\n",
    "        \"item_ID\": row['ORDER_ITEMS_ID'],\n",
    "        \"item_detailsID\": row['ORDER_DETAILS_ID'],\n",
    "        \"item_productID\": row['PRODUCT_ID'],\n",
    "        \"item_createdAt\": row['CREATED_AT'].strftime('%Y-%m-%d %H:%M:%S') if not pd.isnull(row['CREATED_AT']) else '2022-07-01 09:57:48',\n",
    "        \"item_modifiedAt\": row['MODIFIED_AT'].strftime('%Y-%m-%d %H:%M:%S') if not pd.isnull(row['MODIFIED_AT']) else '2022-07-01 09:57:48'\n",
    "    }\n",
    "    \n",
    "    # Adicionar o item ao array de itens associados àquele pedido\n",
    "    items_por_order[orderDetailsID].append(new_orderItem)\n",
    "  \n",
    "# Atualizar cada ORDER com o array de items associados\n",
    "for orderDetailsID, items in items_por_order.items():\n",
    "    collection_order.update_one({\"order_detailsID\": orderDetailsID}, {'$set': {\"order_items\": items}})"
   ]
  },
  {
   "attachments": {},
   "cell_type": "markdown",
   "metadata": {},
   "source": [
    "-Adicionar campo payment_details"
   ]
  },
  {
   "cell_type": "code",
   "execution_count": 29,
   "metadata": {},
   "outputs": [],
   "source": [
    "for index, row in payment_details.iterrows():\n",
    "    paymentID = row['PAYMENT_DETAILS_ID']\n",
    "    \n",
    "    new_paymentDetails = {\n",
    "        \"payment_detailsID\": row['PAYMENT_DETAILS_ID'],\n",
    "        \"payment_orderID\": row['ORDER_ID'],\n",
    "        \"payment_amount\": row['AMOUNT'],\n",
    "        \"payment_provider\": row['PROVIDER'],\n",
    "        \"payment_status\": row['PAYMENT_STATUS'],\n",
    "        \"payment_createdAt\": row['CREATED_AT'].strftime('%Y-%m-%d %H:%M:%S') if not pd.isnull(row['CREATED_AT']) else '2022-07-01 09:57:48',\n",
    "        \"payment_modifiedAt\": row['MODIFIED_AT'].strftime('%Y-%m-%d %H:%M:%S') if not pd.isnull(row['MODIFIED_AT']) else '2022-07-01 09:57:48'\n",
    "    }\n",
    "\n",
    "    \n",
    "    collection_order.update_one({\"order_paymentID\": paymentID}, {'$set': {\"payment_details\": new_paymentDetails}})"
   ]
  },
  {
   "attachments": {},
   "cell_type": "markdown",
   "metadata": {},
   "source": [
    "- Adicionar o campo address"
   ]
  },
  {
   "cell_type": "code",
   "execution_count": 30,
   "metadata": {},
   "outputs": [],
   "source": [
    "for index, row in addresses.iterrows():\n",
    "    deliveryAddressID = row['ADRESS_ID']\n",
    "    \n",
    "    new_Address = {\n",
    "        \"address_id\": row['ADRESS_ID'],\n",
    "        \"line_1\": row['LINE_1'],\n",
    "        \"line_2\": row['LINE_2'],\n",
    "        \"city\": row['CITY'],\n",
    "        \"zip_code\": row['ZIP_CODE'],\n",
    "        \"province\": row['PROVINCE'],\n",
    "        \"country\": row['COUNTRY'],\n",
    "    }\n",
    "\n",
    "    \n",
    "    collection_order.update_one({\"order_deliveryAddressID\": deliveryAddressID}, {'$set': {\"address\": new_Address}})"
   ]
  }
 ],
 "metadata": {
  "kernelspec": {
   "display_name": "Python 3",
   "language": "python",
   "name": "python3"
  },
  "language_info": {
   "codemirror_mode": {
    "name": "ipython",
    "version": 3
   },
   "file_extension": ".py",
   "mimetype": "text/x-python",
   "name": "python",
   "nbconvert_exporter": "python",
   "pygments_lexer": "ipython3",
   "version": "3.10.11"
  },
  "orig_nbformat": 4
 },
 "nbformat": 4,
 "nbformat_minor": 2
}
