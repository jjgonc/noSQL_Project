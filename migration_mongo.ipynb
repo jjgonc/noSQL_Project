{
 "cells": [
  {
   "attachments": {},
   "cell_type": "markdown",
   "metadata": {},
   "source": [
    "### Imports"
   ]
  },
  {
   "cell_type": "code",
   "execution_count": null,
   "metadata": {},
   "outputs": [],
   "source": [
    "import pandas as pd\n",
    "import numpy as np\n",
    "import pymongo\n",
    "import json\n",
    "import cx_Oracle\n",
    "\n",
    "# path da instalação do instantclient\n",
    "cx_Oracle.init_oracle_client(lib_dir=r\"C:\\instantclient_21_9\")"
   ]
  },
  {
   "attachments": {},
   "cell_type": "markdown",
   "metadata": {},
   "source": [
    "### Estabelecer conexão"
   ]
  },
  {
   "cell_type": "code",
   "execution_count": null,
   "metadata": {},
   "outputs": [],
   "source": [
    "# Conectar ao Oracle\n",
    "dsn_tns = cx_Oracle.makedsn('localhost', '1521', service_name='xe')\n",
    "conn = cx_Oracle.connect(user='store', password='uminho2023', dsn=dsn_tns)"
   ]
  },
  {
   "attachments": {},
   "cell_type": "markdown",
   "metadata": {},
   "source": [
    "### Selecionar dados das tabelas"
   ]
  },
  {
   "cell_type": "code",
   "execution_count": null,
   "metadata": {},
   "outputs": [],
   "source": [
    "oracle_cursor = conn.cursor()"
   ]
  },
  {
   "attachments": {},
   "cell_type": "markdown",
   "metadata": {},
   "source": [
    "----\n",
    "Grupo 1: USER\n",
    "\n",
    "STORE_USERS"
   ]
  },
  {
   "cell_type": "code",
   "execution_count": null,
   "metadata": {},
   "outputs": [],
   "source": [
    "oracle_cursor.execute(\"SELECT * FROM STORE_USERS\")\n",
    "results_storeUsers = oracle_cursor.fetchall()\n",
    "\n",
    "store_users = pd.DataFrame(results_storeUsers, columns=[i[0] for i in oracle_cursor.description])"
   ]
  },
  {
   "attachments": {},
   "cell_type": "markdown",
   "metadata": {},
   "source": [
    "ADDRESSES"
   ]
  },
  {
   "cell_type": "code",
   "execution_count": null,
   "metadata": {},
   "outputs": [],
   "source": [
    "oracle_cursor.execute(\"SELECT * FROM ADDRESSES\")\n",
    "results_addresses = oracle_cursor.fetchall()\n",
    "\n",
    "addresses = pd.DataFrame(results_addresses, columns=[i[0] for i in oracle_cursor.description])"
   ]
  },
  {
   "attachments": {},
   "cell_type": "markdown",
   "metadata": {},
   "source": [
    "----\n",
    "Grupo 2: EMPLOYEES\n",
    "\n",
    "EMPLOYEES"
   ]
  },
  {
   "cell_type": "code",
   "execution_count": null,
   "metadata": {},
   "outputs": [],
   "source": [
    "oracle_cursor.execute(\"SELECT * FROM EMPLOYEES\")\n",
    "results_employees = oracle_cursor.fetchall()\n",
    "\n",
    "employees = pd.DataFrame(results_employees, columns=[i[0] for i in oracle_cursor.description])"
   ]
  },
  {
   "attachments": {},
   "cell_type": "markdown",
   "metadata": {},
   "source": [
    "DEPARTMENTS"
   ]
  },
  {
   "cell_type": "code",
   "execution_count": null,
   "metadata": {},
   "outputs": [],
   "source": [
    "oracle_cursor.execute(\"SELECT * FROM DEPARTMENTS\")\n",
    "results_departments = oracle_cursor.fetchall()\n",
    "\n",
    "departments = pd.DataFrame(results_departments, columns=[i[0] for i in oracle_cursor.description])"
   ]
  },
  {
   "attachments": {},
   "cell_type": "markdown",
   "metadata": {},
   "source": [
    "EMPLOYEES_ARCHIVE"
   ]
  },
  {
   "cell_type": "code",
   "execution_count": null,
   "metadata": {},
   "outputs": [],
   "source": [
    "oracle_cursor.execute(\"SELECT * FROM EMPLOYEES_ARCHIVE\")\n",
    "results_employeesArchive = oracle_cursor.fetchall()\n",
    "\n",
    "employeesArchive = pd.DataFrame(results_employeesArchive, columns=[i[0] for i in oracle_cursor.description])"
   ]
  },
  {
   "attachments": {},
   "cell_type": "markdown",
   "metadata": {},
   "source": [
    "----\n",
    "Grupo 3: PRODUCT  \n",
    "\n",
    "PRODUCT"
   ]
  },
  {
   "cell_type": "code",
   "execution_count": null,
   "metadata": {},
   "outputs": [],
   "source": [
    "oracle_cursor.execute(\"SELECT * FROM PRODUCT\")\n",
    "results_product = oracle_cursor.fetchall()\n",
    "\n",
    "product = pd.DataFrame(results_product, columns=[i[0] for i in oracle_cursor.description])"
   ]
  },
  {
   "attachments": {},
   "cell_type": "markdown",
   "metadata": {},
   "source": [
    "PRODUCT_CATEGORIES"
   ]
  },
  {
   "cell_type": "code",
   "execution_count": null,
   "metadata": {},
   "outputs": [],
   "source": [
    "oracle_cursor.execute(\"SELECT * FROM PRODUCT_CATEGORIES\")\n",
    "results_productCategories = oracle_cursor.fetchall()\n",
    "\n",
    "productCategories = pd.DataFrame(results_productCategories, columns=[i[0] for i in oracle_cursor.description])"
   ]
  },
  {
   "attachments": {},
   "cell_type": "markdown",
   "metadata": {},
   "source": [
    "DISCOUNT"
   ]
  },
  {
   "cell_type": "code",
   "execution_count": null,
   "metadata": {},
   "outputs": [],
   "source": [
    "oracle_cursor.execute(\"SELECT * FROM DISCOUNT\")\n",
    "results_discount = oracle_cursor.fetchall()\n",
    "\n",
    "discount = pd.DataFrame(results_discount, columns=[i[0] for i in oracle_cursor.description])"
   ]
  },
  {
   "attachments": {},
   "cell_type": "markdown",
   "metadata": {},
   "source": [
    "STOCK"
   ]
  },
  {
   "cell_type": "code",
   "execution_count": null,
   "metadata": {},
   "outputs": [],
   "source": [
    "oracle_cursor.execute(\"SELECT * FROM STOCK\")\n",
    "results_stock = oracle_cursor.fetchall()\n",
    "\n",
    "stock = pd.DataFrame(results_stock, columns=[i[0] for i in oracle_cursor.description])"
   ]
  },
  {
   "attachments": {},
   "cell_type": "markdown",
   "metadata": {},
   "source": [
    "----\n",
    "Grupo 4: ORDER  \n",
    "  \n",
    "  \n",
    "PAYMENT_DETAILS"
   ]
  },
  {
   "cell_type": "code",
   "execution_count": null,
   "metadata": {},
   "outputs": [],
   "source": [
    "oracle_cursor.execute(\"SELECT * FROM PAYMENT_DETAILS\")\n",
    "results_paymentDetails = oracle_cursor.fetchall()\n",
    "\n",
    "payment_details = pd.DataFrame(results_paymentDetails, columns=[i[0] for i in oracle_cursor.description])"
   ]
  },
  {
   "attachments": {},
   "cell_type": "markdown",
   "metadata": {},
   "source": [
    "ORDER_DETAILS"
   ]
  },
  {
   "cell_type": "code",
   "execution_count": null,
   "metadata": {},
   "outputs": [],
   "source": [
    "oracle_cursor.execute(\"SELECT * FROM ORDER_DETAILS\")\n",
    "results_orderDetails = oracle_cursor.fetchall()\n",
    "\n",
    "order_details = pd.DataFrame(results_orderDetails, columns=[i[0] for i in oracle_cursor.description])"
   ]
  },
  {
   "attachments": {},
   "cell_type": "markdown",
   "metadata": {},
   "source": [
    "ORDER_ITEMS"
   ]
  },
  {
   "cell_type": "code",
   "execution_count": null,
   "metadata": {},
   "outputs": [],
   "source": [
    "oracle_cursor.execute(\"SELECT * FROM ORDER_ITEMS\")\n",
    "results_orderItems = oracle_cursor.fetchall()\n",
    "\n",
    "order_items = pd.DataFrame(results_orderItems, columns=[i[0] for i in oracle_cursor.description])"
   ]
  },
  {
   "attachments": {},
   "cell_type": "markdown",
   "metadata": {},
   "source": [
    "CART_ITEM"
   ]
  },
  {
   "cell_type": "code",
   "execution_count": null,
   "metadata": {},
   "outputs": [],
   "source": [
    "oracle_cursor.execute(\"SELECT * FROM CART_ITEM\")\n",
    "results_cartItem = oracle_cursor.fetchall()\n",
    "\n",
    "cart_item = pd.DataFrame(results_cartItem, columns=[i[0] for i in oracle_cursor.description])"
   ]
  },
  {
   "attachments": {},
   "cell_type": "markdown",
   "metadata": {},
   "source": [
    "SHOPPING_SESSION"
   ]
  },
  {
   "cell_type": "code",
   "execution_count": null,
   "metadata": {},
   "outputs": [],
   "source": [
    "oracle_cursor.execute(\"SELECT * FROM SHOPPING_SESSION\")\n",
    "results_shoppingSession = oracle_cursor.fetchall()\n",
    "\n",
    "shopping_session = pd.DataFrame(results_shoppingSession, columns=[i[0] for i in oracle_cursor.description])"
   ]
  },
  {
   "attachments": {},
   "cell_type": "markdown",
   "metadata": {},
   "source": [
    "----\n",
    "# Tratar os dados"
   ]
  },
  {
   "attachments": {},
   "cell_type": "markdown",
   "metadata": {},
   "source": [
    "### EMPLOYEES\n",
    "- Passar a ter um único documento para employees\n",
    "- Adicionar um campo de \"estado\" (antigo/atual)\n"
   ]
  },
  {
   "cell_type": "code",
   "execution_count": null,
   "metadata": {},
   "outputs": [],
   "source": [
    "# Iterar pelo EMPLOYEES_ARCHIVE e descontruir em 2 registos (um com o estado \"old\", e o outro com o estado \"active\")\n",
    "\n",
    "old_employees = []\n",
    "active_employees = []\n",
    "\n",
    "for index, row in employeesArchive.iterrows():\n",
    "    \n",
    "    if row['OLD_EMPLOYEE_ID'] is not None and not np.isnan(row['OLD_EMPLOYEE_ID']):\n",
    "        employee_info_old = {\n",
    "        \"emp_ID\": row['OLD_EMPLOYEE_ID'],\n",
    "        \"emp_firstName\": row['OLD_FIRST_NAME'],\n",
    "        \"emp_MiddleName\": row['OLD_MIDDLE_NAME'] if row['NEW_MIDDLE_NAME'] else '',\n",
    "        \"emp_LastName\": row['OLD_LAST_NAME'],\n",
    "        \"emp_dateOfBirth\": row['OLD_DATE_OF_BIRTH'].strftime('%Y-%m-%d %H:%M:%S'),\n",
    "        \"emp_departmentID\": row['OLD_DEPARTMENT_ID'],\n",
    "        \"emp_hireDate\": row['OLD_HIRE_DATE'].strftime('%Y-%m-%d %H:%M:%S'),\n",
    "        \"emp_salary\": row['OLD_SALARY'],\n",
    "        \"emp_phoneNumber\": row['OLD_PHONE_NUMBER'],\n",
    "        \"emp_Email\": row['OLD_EMAIL'],\n",
    "        \"emp_ssnNumber\": row['OLD_SSN_NUMBER'],\n",
    "        \"emp_managerID\": row['OLD_MANAGER_ID'] if row['OLD_MANAGER_ID'] else 0,\n",
    "        \"employee_state\": \"old\"\n",
    "    }\n",
    "        old_employees.append(employee_info_old)\n",
    "\n",
    "    employee_info_active = {\n",
    "            \"emp_ID\": row['NEW_EMPLOYEE_ID'],\n",
    "            \"emp_firstName\": row['NEW_FIRST_NAME'],\n",
    "            \"emp_MiddleName\": row['NEW_MIDDLE_NAME'] if row['NEW_MIDDLE_NAME'] else '',\n",
    "            \"emp_LastName\": row['NEW_LAST_NAME'],\n",
    "            \"emp_dateOfBirth\": row['NEW_DATE_OF_BIRTH'].strftime('%Y-%m-%d %H:%M:%S'),\n",
    "            \"emp_departmentID\": row['NEW_DEPARTMENT_ID'],\n",
    "            \"emp_hireDate\": row['NEW_HIRE_DATE'].strftime('%Y-%m-%d %H:%M:%S'),\n",
    "            \"emp_salary\": row['NEW_SALARY'],\n",
    "            \"emp_phoneNumber\": row['NEW_PHONE_NUMBER'],\n",
    "            \"emp_Email\": row['NEW_EMAIL'],\n",
    "            \"emp_ssnNumber\": row['NEW_SSN_NUMBER'],\n",
    "            \"emp_managerID\": row['NEW_MANAGER_ID'] if row['OLD_MANAGER_ID'] else 0,\n",
    "            \"employee_state\": \"active\"\n",
    "    }\n",
    "    active_employees.append(employee_info_active)"
   ]
  },
  {
   "attachments": {},
   "cell_type": "markdown",
   "metadata": {},
   "source": [
    "####"
   ]
  },
  {
   "attachments": {},
   "cell_type": "markdown",
   "metadata": {},
   "source": [
    "----\n",
    "# Enviar para o Mongo"
   ]
  },
  {
   "cell_type": "code",
   "execution_count": null,
   "metadata": {},
   "outputs": [],
   "source": [
    "import pymongo\n",
    "\n",
    "# Connect to MongoDB\n",
    "client = pymongo.MongoClient(\"mongodb://localhost:27017/\")\n",
    "\n",
    "# Create a database called \"oes\"\n",
    "database = client[\"oes\"]\n",
    "\n",
    "# Create collections\n",
    "collection_user = database[\"user\"]\n",
    "collection_product = database[\"product\"]\n",
    "collection_order = database[\"order\"]\n",
    "collection_employees = database[\"employees\"]\n",
    "\n",
    "# Convert the active_employees array into a list of employee documents\n",
    "employee_documents = []\n",
    "for employee in active_employees:\n",
    "    employee_documents.append(employee)\n",
    "\n",
    "# Insert the employee documents into the employees collection\n",
    "collection_employees.insert_many(employee_documents)"
   ]
  },
  {
   "attachments": {},
   "cell_type": "markdown",
   "metadata": {},
   "source": [
    "- Adicionar um campo para o departamento\n",
    "\n",
    "Nota: manager ID que estamos a ir buscar (proveniente do departamento) é diferente daquele que é fornecido no employee_archive"
   ]
  },
  {
   "cell_type": "code",
   "execution_count": null,
   "metadata": {},
   "outputs": [],
   "source": [
    "for entry in active_employees:\n",
    "    id_employee = entry[\"emp_ID\"]\n",
    "\n",
    "    # Get the department ID for the current employee\n",
    "    dept_id = entry['emp_departmentID']\n",
    "\n",
    "    # Find the department information for the current department ID\n",
    "    dept_info = departments.query(\"DEPARTMENT_ID == @dept_id\").iloc[0]\n",
    "\n",
    "    departmentId = dept_info[\"DEPARTMENT_ID\"]\n",
    "    departmentName = dept_info['DEPARTMENT_NAME']\n",
    "    managerId = dept_info['MANAGER_ID']\n",
    "    departmentDescription = dept_info['DEPARTMENT_DESC']\n",
    "   \n",
    "    # Create a new dictionary with the department information\n",
    "    new_field = {\n",
    "        \"department_id\": int(departmentId),\n",
    "        \"department_name\": departmentName,\n",
    "        \"manager_id\": int(managerId),\n",
    "        \"department_description\": departmentDescription\n",
    "    }\n",
    "\n",
    "    # Update the \"department_info\" field in the current employee dictionary\n",
    "    entry[\"department_info\"] = new_field\n",
    "    del entry[\"emp_departmentID\"]\n",
    "    if entry[\"_id\"]: \n",
    "        del entry[\"_id\"]\n",
    "    \n",
    "    collection_employees.update_one({\"emp_ID\": id_employee}, {'$set': {\"department_info\": new_field}})\n",
    "\n",
    "    print(entry)\n"
   ]
  }
 ],
 "metadata": {
  "kernelspec": {
   "display_name": "Python 3",
   "language": "python",
   "name": "python3"
  },
  "language_info": {
   "codemirror_mode": {
    "name": "ipython",
    "version": 3
   },
   "file_extension": ".py",
   "mimetype": "text/x-python",
   "name": "python",
   "nbconvert_exporter": "python",
   "pygments_lexer": "ipython3",
   "version": "3.10.11"
  },
  "orig_nbformat": 4
 },
 "nbformat": 4,
 "nbformat_minor": 2
}
