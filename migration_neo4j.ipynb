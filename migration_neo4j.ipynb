{
 "cells": [
  {
   "attachments": {},
   "cell_type": "markdown",
   "metadata": {},
   "source": [
    "# Conversão Neo4J \n",
    "### Imports\n"
   ]
  },
  {
   "cell_type": "code",
   "execution_count": null,
   "metadata": {},
   "outputs": [],
   "source": [
    "import cx_Oracle\n",
    "import math\n",
    "import numpy as np\n",
    "import json\n",
    "\n",
    "# path da instalação do instantclient\n",
    "cx_Oracle.init_oracle_client(lib_dir=r\"C:\\instantclient_21_9\")"
   ]
  },
  {
   "attachments": {},
   "cell_type": "markdown",
   "metadata": {},
   "source": [
    "### Estabelecer Conexão \n"
   ]
  },
  {
   "cell_type": "code",
   "execution_count": null,
   "metadata": {},
   "outputs": [],
   "source": [
    "# Conectar ao Oracle\n",
    "dsn_tns = cx_Oracle.makedsn('localhost', '1521', service_name='xe')\n",
    "conn = cx_Oracle.connect(user='store', password='uminho2023', dsn=dsn_tns)\n",
    "\n",
    "cursor = conn.cursor()"
   ]
  },
  {
   "attachments": {},
   "cell_type": "markdown",
   "metadata": {},
   "source": [
    "### Criar nodos das Tabelas\n",
    "\n",
    "Nota: É aconselhável\n",
    "Variável count pois se quisermos meter várias queries no Neo4j ao mesmo tempo estas nao podem ter a mesma variável para a label\n"
   ]
  },
  {
   "attachments": {},
   "cell_type": "markdown",
   "metadata": {},
   "source": [
    "- `Store_Users`"
   ]
  },
  {
   "cell_type": "code",
   "execution_count": null,
   "metadata": {},
   "outputs": [],
   "source": [
    "# Criar nodos dos Utilizadores\n",
    "def createStoreUserNodes(cursor, cyph):\n",
    "    query = \"SELECT * FROM STORE_USERS\"\n",
    "    cursor.execute(query)\n",
    "    result = cursor.fetchall()\n",
    "\n",
    "    # Percorrer as linhas da tabela Store_Users\n",
    "    count = 1\n",
    "    for l in result:\n",
    "        id_line = l[0]\n",
    "        name = l[1]\n",
    "        m_name = l[2]\n",
    "        l_name = l[3]\n",
    "        phone = l[4]\n",
    "        email = l[5]\n",
    "        username = l[6]\n",
    "        password = l[7]\n",
    "        registered = l[8]\n",
    "\n",
    "        cyph.write('CREATE (u'+ str (count) + ':Store_User {id:' + str(id_line) + ', First_name:' + \"'\" + name + \"'\"+ ', Middle_name:' + \"'\" + str(m_name) + \"'\" + ', Last_name :' + \"'\" + str(l_name) + \"'\" + ', Phone_Number:' + \"'\" + str(phone) + \"'\" + ', Email:' + \"'\" + str(email) + \"'\" + ', Username:' + \"'\" + str(username) + \"'\" + ', User_password:' + \"'\" + str(password) + \"'\" + ', Registered_at:' + \"'\" + str(registered) + \"'\" +  '});'+'\\n')\n",
    "        count += 1\n",
    "    cyph.write('\\n\\n')"
   ]
  },
  {
   "attachments": {},
   "cell_type": "markdown",
   "metadata": {},
   "source": [
    "- `Product`"
   ]
  },
  {
   "cell_type": "code",
   "execution_count": null,
   "metadata": {},
   "outputs": [],
   "source": [
    "# Criar nodos dos Produtos\n",
    "def createProductNodes(cursor, cyph):\n",
    "    query = \"SELECT * FROM PRODUCT\"\n",
    "    cursor.execute(query)\n",
    "    result = cursor.fetchall()\n",
    "\n",
    "    # Percorrer as linhas da tabela PRODUCT\n",
    "    count = 1\n",
    "    for l in result:\n",
    "        id_line = l[0]\n",
    "        name = l[1]\n",
    "        category_id = l[2]\n",
    "        sku = l[3]\n",
    "        price = l[4]\n",
    "        discount_id = 0\n",
    "        if(l[5] is not None):\n",
    "            discount_id = l[5]\n",
    "        \n",
    "        created_at = l[6]\n",
    "        modified_str = '2022-07-01 09:57:48'\n",
    "        if l[7] is not None:\n",
    "            modified_str = str(l[7])\n",
    "\n",
    "        # Obtenha o stock do produto a partir da tabela \"STOCK\"\n",
    "        stock_query = \"SELECT * FROM STOCK WHERE product_id = \" + str(id_line)\n",
    "        cursor.execute(stock_query)\n",
    "        stock_result = cursor.fetchone()\n",
    "        stock = stock_result[1] if stock_result else 0\n",
    "        max = stock_result[2]\n",
    "        unit = stock_result[3]\n",
    "\n",
    "        # Obtenha o nome da categoria a partir da tabela \"PRODUCT_CATEGORIES\"\n",
    "        category_query = \"SELECT CATEGORY_NAME FROM PRODUCT_CATEGORIES WHERE category_id = \" + str(category_id)\n",
    "        cursor.execute(category_query)\n",
    "        category_result = cursor.fetchone()\n",
    "        category_name = category_result[0] if category_result else ''\n",
    "\n",
    "        cyph.write('CREATE (p'+ str(count) + ':Product {id:' + str(id_line) + ', Product_name:' + \"'\" + str(name) + \"'\" + ', SKU:' + \"'\" + str(sku) + \"'\" + ', Price:' + str(price) + ', Discount_id:' + str(discount_id) + ', Created_at:' + \"'\" + str(created_at) + \"'\" + ', Last_modified:' + \"'\" + str(modified_str) + \"'\" + ', Stock:' + str(stock) +  ', Max_stock_quantity:' + str(max) +  ', Unit:' + \"'\" + str(unit) + \"'\" + ', Category_id:' + str(category_id) + ', Category_name:' + \"'\" + str(category_name) + \"'\" +  '});'+'\\n')\n",
    "        count += 1\n",
    "\n",
    "    cyph.write('\\n\\n')"
   ]
  },
  {
   "attachments": {},
   "cell_type": "markdown",
   "metadata": {},
   "source": [
    "- `Discount`"
   ]
  },
  {
   "cell_type": "code",
   "execution_count": null,
   "metadata": {},
   "outputs": [],
   "source": [
    "# Criar nodos dos Discount\n",
    "def createDiscountNodes(cursor, cyph):\n",
    "    query = \"SELECT * FROM DISCOUNT\"\n",
    "    cursor.execute(query)\n",
    "    result = cursor.fetchall()\n",
    "\n",
    "    # Percorrer as linhas da tabela DISCOUNT\n",
    "\n",
    "    count = 1\n",
    "    for l in result:\n",
    "        id_line = l[0]\n",
    "        name = l[1]\n",
    "        description = l[2]\n",
    "        percentage = l[3]\n",
    "        status = l[4]\n",
    "        created = l[5]\n",
    "        modified_str = '2022-07-01 09:57:48'\n",
    "        if l[6] is not None:\n",
    "            modified_str = str(l[6])\n",
    "\n",
    "        cyph.write('CREATE (dis'+ str (count) + ':Discount {id:' + str(id_line) + ', Discount_name:' + \"'\" +  str(name) + \"'\" + ', Discount_description:' + \"'\" +  str(description) + \"'\" + ', Discount_percent:' +  str(percentage) + ', is_active_status:' + \"'\" +  str(status) + \"'\" + ', Created_at:' + \"'\" +  str(created) + \"'\" + ', Modified_at:' + \"'\" +  str(modified_str) + \"'\" +'});'+'\\n')\n",
    "        count += 1\n",
    "\n",
    "    cyph.write('\\n\\n')"
   ]
  },
  {
   "attachments": {},
   "cell_type": "markdown",
   "metadata": {},
   "source": [
    "- `Cart_Item`"
   ]
  },
  {
   "cell_type": "code",
   "execution_count": null,
   "metadata": {},
   "outputs": [],
   "source": [
    "# Criar nodos dos Cart Item\n",
    "def createCartItemNode(cursor, cyph):\n",
    "    query = \"SELECT * FROM CART_ITEM\"\n",
    "    cursor.execute(query)\n",
    "    result = cursor.fetchall()\n",
    "\n",
    "    # Percorrer as linhas da tabela CART_ITEM\n",
    "\n",
    "    count = 1\n",
    "    for l in result:\n",
    "        id_item = l[0]\n",
    "        session = l[1]\n",
    "        product_id = l[2]\n",
    "        quantity = l[3]\n",
    "        created = l[4]\n",
    "        \n",
    "        modified_str = '2022-07-01 09:57:48'\n",
    "        if l[5] is not None:\n",
    "            modified_str = str(l[5])\n",
    "       \n",
    "        cyph.write('CREATE (c'+ str(count) + ':Cart_Item {id:' + str(id_item) + ', session:' + str(session) + ', product_id:' + str(product_id) + ', quantity:' + str(quantity) + ', created_at:' + \"'\" + str(created) + \"'\" + ', modified_at:' + \"'\" + modified_str + \"'\" + '});' + '\\n')\n",
    "        count += 1\n",
    "\n",
    "    cyph.write('\\n\\n')"
   ]
  },
  {
   "attachments": {},
   "cell_type": "markdown",
   "metadata": {},
   "source": [
    "- `Shopping_Session`"
   ]
  },
  {
   "cell_type": "code",
   "execution_count": null,
   "metadata": {},
   "outputs": [],
   "source": [
    "# Criar nodos dos Shopping Session\n",
    "def createShoppingSessionNode(cursor, cyph):\n",
    "    query = \"SELECT * FROM SHOPPING_SESSION\"\n",
    "    cursor.execute(query)\n",
    "    result = cursor.fetchall()\n",
    "\n",
    "    # Percorrer as linhas da tabela SHOPPING_SESSION\n",
    "\n",
    "    count = 1\n",
    "    for l in result:\n",
    "        session_id = l[0]\n",
    "        user_id = l[1]\n",
    "        created = l[2]\n",
    "        modified_str = '2022-07-01 09:57:48'\n",
    "        if l[3] is not None:\n",
    "            modified_str = str(l[3])\n",
    "\n",
    "        cyph.write('CREATE (s'+ str (count) + ':Shopping_Session {id:' + str(session_id) + ', user_id:' + str(user_id) + ', created_at:' + \"'\" + str(created) + \"'\" + ', modified_at:' + \"'\" + modified_str + \"'\" + '});' + '\\n')\n",
    "        count += 1\n",
    "\n",
    "    cyph.write('\\n\\n')"
   ]
  },
  {
   "attachments": {},
   "cell_type": "markdown",
   "metadata": {},
   "source": [
    "- `Order_details`"
   ]
  },
  {
   "cell_type": "code",
   "execution_count": null,
   "metadata": {},
   "outputs": [],
   "source": [
    "# Criar nodos dos Detalhes de Encomenda\n",
    "def createOrderDetailsNode(cursor, cyph):\n",
    "    query = \"SELECT * FROM ORDER_DETAILS\"\n",
    "    cursor.execute(query)\n",
    "    result = cursor.fetchall()\n",
    "    \n",
    "    # Percorrer as linhas da tabela ORDER_DETAILS\n",
    "\n",
    "    count = 1\n",
    "    for l in result:\n",
    "        id_line = l[0]\n",
    "        user_id = l[1]\n",
    "        total = l[2]\n",
    "        payment_id = l[3]\n",
    "        shipping_method = l[4]\n",
    "        delivery_addressID = l[5]\n",
    "        created = l[6]\n",
    "        \n",
    "        modified_str = '2022-07-01 09:57:48'\n",
    "        if l[7] is not None:\n",
    "            modified_str = str(l[7])\n",
    "\n",
    "        cyph.write('CREATE (o'+ str(count) + ':Order_Details {id:' + str(id_line) + ', user_id:' + str(user_id) + ', total:' + str(total) + ', payment_id:' + str(payment_id) + ', shipping_method:' + \"'\" + str(shipping_method) + \"'\" + ', delivery_address_ID:' + str(delivery_addressID) + ', created_at:' + \"'\" + str(created) + \"'\" + ', modified_at:' + \"'\" + modified_str + \"'\" + '});' + '\\n')\n",
    "        count += 1\n",
    "\n",
    "    cyph.write('\\n\\n')\n"
   ]
  },
  {
   "attachments": {},
   "cell_type": "markdown",
   "metadata": {},
   "source": [
    "- `Order_items`"
   ]
  },
  {
   "cell_type": "code",
   "execution_count": null,
   "metadata": {},
   "outputs": [],
   "source": [
    "# Create nodes for Order Items\n",
    "def createOrderItemsNode(cursor, cyph):\n",
    "    query = \"SELECT * FROM ORDER_ITEMS\"\n",
    "    cursor.execute(query)\n",
    "    result = cursor.fetchall()\n",
    "\n",
    "    # Iterate through the rows of the ORDER_ITEMS table\n",
    "    count = 1\n",
    "    for l in result:\n",
    "        order_items_id = l[0]\n",
    "        order_details_id = l[1]\n",
    "        product_id = l[2]\n",
    "        created_at = l[3]\n",
    "        modified_str = '2022-07-01 09:57:48'\n",
    "        if l[4] is not None:\n",
    "            modified_str = str(l[4])\n",
    "\n",
    "        cyph.write(\n",
    "            'CREATE (oi' + str(count) + ':Order_Items {order_items_id:' + str(order_items_id) + ', order_details_id:' + str(order_details_id) + ', product_id:' + str(product_id) + ', created_at:' + \"'\" + str(created_at) + \"'\" + ', modified_at:' + \"'\" + str(modified_str) + \"'\" + '});' + '\\n'\n",
    "        )\n",
    "        count += 1\n",
    "\n",
    "    cyph.write('\\n\\n')\n"
   ]
  },
  {
   "attachments": {},
   "cell_type": "markdown",
   "metadata": {},
   "source": [
    "- `Payment_details`"
   ]
  },
  {
   "cell_type": "code",
   "execution_count": null,
   "metadata": {},
   "outputs": [],
   "source": [
    "# Criar nodos dos Detalhes de Pagamento\n",
    "def createPaymentDetailsNode(cursor, cyph):\n",
    "    query = \"SELECT * FROM PAYMENT_DETAILS\"\n",
    "    cursor.execute(query)\n",
    "    result = cursor.fetchall()\n",
    "    \n",
    "    # Percorrer as linhas da tabela PAYMENT_DETAILS\n",
    "\n",
    "    count = 1\n",
    "    for l in result:\n",
    "        id_line = l[0]\n",
    "        order_id = l[1]\n",
    "        amount = l[2]\n",
    "        provider = l[3]\n",
    "        payment_status = l[4]\n",
    "        created = l[5]\n",
    "        \n",
    "        modified_str = '2022-07-01 09:57:48'\n",
    "        if l[6] is not None:\n",
    "            modified_str = str(l[6])\n",
    "\n",
    "        cyph.write('CREATE (pd'+ str(count) + ':Payment_Details {id:' + str(id_line) + ', order_id:' + str(order_id) + ', amount:' + str(amount) + ', provider:' + \"'\" + provider + \"'\" + ', payment_status:' + \"'\" + payment_status + \"'\" + ', created_at:' + \"'\" + str(created) + \"'\" + ', modified_at:' + \"'\" + modified_str + \"'\" + '});' + '\\n')\n",
    "        count += 1\n",
    "\n",
    "    cyph.write('\\n\\n')"
   ]
  },
  {
   "attachments": {},
   "cell_type": "markdown",
   "metadata": {},
   "source": [
    "- `Employees`"
   ]
  },
  {
   "cell_type": "code",
   "execution_count": null,
   "metadata": {},
   "outputs": [],
   "source": [
    "def createEmployeesNode(cursor, cyph):\n",
    "    query = \"SELECT * FROM EMPLOYEES\"\n",
    "    cursor.execute(query)\n",
    "    result = cursor.fetchall()\n",
    "\n",
    "    # Percorrer as linhas da tabela EMPLOYEES\n",
    "    count = 1\n",
    "    for l in result:\n",
    "        id_line = l[0]\n",
    "        first_name = l[1]\n",
    "        last_name = l[3]\n",
    "        date_of_birth = l[4]\n",
    "        department = l[5]\n",
    "        hire_date = l[6]\n",
    "        salary = l[7]\n",
    "        phone_number = l[8]\n",
    "        email = l[9]\n",
    "        ssn_number = l[10]\n",
    "        middle_name = ''\n",
    "        if l[2]:\n",
    "            middle_name = str(l[2])\n",
    "        manager_id = 0\n",
    "        if l[11] is not None:\n",
    "            manager_id = str(l[11])\n",
    "\n",
    "        # Obter o histórico de emprego do funcionário a partir da tabela EMPLOYEES_ARCHIVE\n",
    "        archive_query = \"SELECT * FROM EMPLOYEES_ARCHIVE WHERE new_employee_id = \" + str(id_line)\n",
    "        cursor.execute(archive_query)\n",
    "        archive_result = cursor.fetchall()\n",
    "\n",
    "        # Criar um campo de histórico de emprego para cada registro no histórico\n",
    "        history = []\n",
    "        for archive in archive_result:\n",
    "            if archive[3] is not None:\n",
    "                # Se old_employee_ID\n",
    "                event_date = archive[0]\n",
    "                event_type = archive[1]\n",
    "                user_name = archive[2]\n",
    "                old_employee_id = archive[3]\n",
    "                old_first_name = archive[4]\n",
    "                old_middle_name = archive[5] if archive[5] else ''\n",
    "                old_last_name = archive[6]\n",
    "                old_date_of_birth = archive[7]\n",
    "                old_department_id = archive[8]\n",
    "                old_hire_date = archive[9]\n",
    "                old_salary = archive[10]\n",
    "                old_phone_number = archive[11]\n",
    "                old_email = archive[12]\n",
    "                old_ssn_number = archive[13]\n",
    "                old_manager_id = 0\n",
    "                print(archive[13])\n",
    "                print(archive[14])\n",
    "                if not math.isnan(archive[14]):\n",
    "                    old_manager_id = archive[14]\n",
    "                \n",
    "                history_item = {\n",
    "                    'event_date': event_date,\n",
    "                    'event_type': event_type,\n",
    "                    'user_name': user_name,\n",
    "                    'old_employee_id': old_employee_id,\n",
    "                    'old_first_name': old_first_name,\n",
    "                    'old_middle_name': old_middle_name,\n",
    "                    'old_last_name': old_last_name,\n",
    "                    'old_date_of_birth': old_date_of_birth,\n",
    "                    'old_department_id': old_department_id,\n",
    "                    'old_hire_date': old_hire_date,\n",
    "                    'old_salary': old_salary,\n",
    "                    'old_phone_number': old_phone_number,\n",
    "                    'old_email': old_email,\n",
    "                    'old_ssn_number': old_ssn_number,\n",
    "                    'old_manager_id': old_manager_id\n",
    "                }\n",
    "                \n",
    "                # Adicionar o registro de histórico ao histórico completo do funcionário\n",
    "                history.append(history_item)\n",
    "\n",
    "        # Criar o nó do funcionário\n",
    "        cyph.write(\n",
    "            'CREATE (e' + str(count) + ':Employees {id:' + str(id_line) + ', first_name:' + \"'\" + str(\n",
    "                first_name) + \"'\" + ', middle_name:' + \"'\" + str(middle_name) + \"'\" + ', last_name:' + \"'\" + str(\n",
    "                last_name) + \"'\" + ', date_of_birth:' + \"'\" + str(date_of_birth) + \"'\" + ', department_id:' + str(\n",
    "                department) + ', hire_date:' + \"'\" + str(hire_date) + \"'\" + ', salary:' + str(salary) + ', phone:' + \"'\" + str(\n",
    "                phone_number) + \"'\" + ', email:' + \"'\" + str(email) + \"'\" + ', ssn_number:' + \"'\" + str(\n",
    "                ssn_number) + \"'\" + ', manager_id:' + str(manager_id) + ', employment_history: ' + json.dumps(history) + '});' + '\\n'\n",
    "        )\n",
    "\n",
    "\n",
    "        count += 1\n",
    "\n",
    "    cyph.write('\\n\\n')\n"
   ]
  },
  {
   "attachments": {},
   "cell_type": "markdown",
   "metadata": {},
   "source": [
    "- Departments"
   ]
  },
  {
   "cell_type": "code",
   "execution_count": null,
   "metadata": {},
   "outputs": [],
   "source": [
    "# Criar nodos dos Departamentos\n",
    "def createDepartmentsNode(cursor, cyph):\n",
    "    query = \"SELECT * FROM DEPARTMENTS\"\n",
    "    cursor.execute(query)\n",
    "    result = cursor.fetchall()\n",
    "    \n",
    "    # Percorrer as linhas da tabela DEPARTMENTS\n",
    "\n",
    "    count = 1\n",
    "    for l in result:\n",
    "        id_line = l[0]\n",
    "        department_name = l[1]\n",
    "        manager_id = l[2]\n",
    "        department_desc = l[3]\n",
    "\n",
    "        # Escape single quotes in department_name and department_desc variables\n",
    "        department_name = department_name.replace(\"'\", \"\")\n",
    "        department_desc = department_desc.replace(\"'\", \"\")\n",
    "\n",
    "        cyph.write('CREATE (d'+ str(count) + ':Departments {id:' + str(id_line) + ', department_name:' + \"'\" + str(department_name) + \"'\" + ', manager_id:' + str(manager_id) + ', department_desc:' + \"'\" + str(department_desc) + \"'\" + '});' + '\\n')\n",
    "        count += 1\n",
    "\n",
    "    cyph.write('\\n\\n')"
   ]
  },
  {
   "attachments": {},
   "cell_type": "markdown",
   "metadata": {},
   "source": [
    "- `Addresses`"
   ]
  },
  {
   "cell_type": "code",
   "execution_count": null,
   "metadata": {},
   "outputs": [],
   "source": [
    "# Criar nodos dos Endereços\n",
    "def createAddressesNode(cursor, cyph):\n",
    "    query = \"SELECT * FROM ADDRESSES\"\n",
    "    cursor.execute(query)\n",
    "    result = cursor.fetchall()\n",
    "    \n",
    "    # Percorrer as linhas da tabela ADDRESSES\n",
    "\n",
    "    count = 1\n",
    "    for l in result:\n",
    "        id_line = l[0]\n",
    "        line1 = l[1]\n",
    "        line2 = \"\"\n",
    "        if(l[2] is not None):\n",
    "            line2 = l[2]\n",
    "        city = l[3]\n",
    "        zip_code = l[4]\n",
    "        province = l[5]\n",
    "        country = l[6]\n",
    "  \n",
    "        cyph.write('CREATE (a'+ str(count) + ':Addresses {id:' + str(id_line) + ', Line_1:' + \"'\" + str(line1) + \"'\" + ', Line_2:' + \"'\" + str(line2) + \"'\" + ', City:' + \"'\" + str(city) + \"'\" + ', Zip_code:' + \"'\" + str(zip_code) + \"'\" + ', Province:' + \"'\" + str(province) + \"'\" + ', Country:' + \"'\" + str(country) + \"'\" + '});' + '\\n')\n",
    "        count += 1\n",
    "\n",
    "    cyph.write('\\n\\n')"
   ]
  },
  {
   "attachments": {},
   "cell_type": "markdown",
   "metadata": {},
   "source": [
    "# Relacionamentos"
   ]
  },
  {
   "attachments": {},
   "cell_type": "markdown",
   "metadata": {},
   "source": [
    "- Relacionamento: employee `WORKS_IN` department"
   ]
  },
  {
   "cell_type": "code",
   "execution_count": null,
   "metadata": {},
   "outputs": [],
   "source": [
    "def create_employee_department_rel(cursor, cyph):\n",
    "    query = \"SELECT * FROM Employees\"\n",
    "    cursor.execute(query)\n",
    "    result = cursor.fetchall()\n",
    "\n",
    "    count = 1\n",
    "    for row in result:\n",
    "        employee_id = row[0]\n",
    "        department_id = row[5]\n",
    "\n",
    "        var_e = 'e' + str(count)\n",
    "        var_d = 'd' + str(count)\n",
    "\n",
    "        query = (\n",
    "            'MATCH (' + var_e + ':Employees {id: ' + str(employee_id) + '}), '\n",
    "            '(' + var_d + ':Departments {id: ' + str(department_id) + '}) '\n",
    "            'CREATE (' + var_e + ')-[:WORKS_IN]->(' + var_d + ');\\n'\n",
    "        )\n",
    "        cyph.write(query)\n",
    "        count += 1\n",
    "\n",
    "    cyph.write('\\n\\n') "
   ]
  },
  {
   "attachments": {},
   "cell_type": "markdown",
   "metadata": {},
   "source": [
    "- Relacionamento: shopping_session `BELONGS_TO` user"
   ]
  },
  {
   "cell_type": "code",
   "execution_count": null,
   "metadata": {},
   "outputs": [],
   "source": [
    "def create_session_user_rel(cursor, cyph):\n",
    "    # Retrieve session and user data from the database\n",
    "    query = \"SELECT * FROM Shopping_Session\"\n",
    "    cursor.execute(query)\n",
    "    result = cursor.fetchall()\n",
    "\n",
    "    count = 1\n",
    "    for row in result:\n",
    "        session_id = row[0]\n",
    "        user_id = row[1]\n",
    "\n",
    "        var_s = 's' + str(count)\n",
    "        var_u = 'u' + str(count)\n",
    "\n",
    "        query = (\n",
    "            'MATCH (' + var_s + ':Shopping_Session {id: ' + str(session_id) + '}), '\n",
    "            '(' + var_u + ':Store_User {id: ' + str(user_id) + '}) '\n",
    "            'CREATE (' + var_s + ')-[:BELONGS_TO]->(' + var_u + ');\\n'\n",
    "        )\n",
    "        cyph.write(query)\n",
    "        count += 1\n",
    "\n",
    "    cyph.write('\\n\\n')"
   ]
  },
  {
   "attachments": {},
   "cell_type": "markdown",
   "metadata": {},
   "source": [
    "- Relacionamento: order `PLACED_BY` user"
   ]
  },
  {
   "cell_type": "code",
   "execution_count": null,
   "metadata": {},
   "outputs": [],
   "source": [
    "# Criar a relação \"PLACED_BY\" entre os nodos Order_Details && Store_users\n",
    "def create_order_placed_by_user_rel(cursor, cyph):\n",
    "    queryO = \"SELECT * FROM ORDER_DETAILS\"\n",
    "    cursor.execute(queryO)\n",
    "    resultO = cursor.fetchall()\n",
    "\n",
    "    count = 1\n",
    "    for order in resultO:\n",
    "        order_id = order[0]\n",
    "        user_id = order[1]\n",
    "\n",
    "        var_o = 'o' + str(count)\n",
    "        var_u = 'u' + str(count)\n",
    "\n",
    "        query = (\n",
    "            'MATCH (' + var_o + ':Order_Details {id: ' + str(order_id) + '}), '\n",
    "            '(' + var_u + ':Store_User {id: ' + str(user_id) + '}) '\n",
    "            'CREATE (' + var_o + ')-[:PLACED_BY]->(' + var_u + ');\\n'\n",
    "        )\n",
    "        cyph.write(query)\n",
    "        count += 1\n",
    "\n",
    "    cyph.write('\\n\\n')\n"
   ]
  },
  {
   "attachments": {},
   "cell_type": "markdown",
   "metadata": {},
   "source": [
    "Relacionamento: product `HAS_DISCOUNT`"
   ]
  },
  {
   "cell_type": "code",
   "execution_count": null,
   "metadata": {},
   "outputs": [],
   "source": [
    "def create_product_discount_rel(cursor, cyph):\n",
    "    query = \"SELECT * FROM Product\"\n",
    "    cursor.execute(query)\n",
    "    result = cursor.fetchall()\n",
    "\n",
    "    count = 1\n",
    "    for row in result:\n",
    "        product_id = row[0]\n",
    "        discount_id = 0\n",
    "        if(row[5] is not None):\n",
    "            discount_id = row[5]\n",
    "\n",
    "        var_p = 'p' + str(count)\n",
    "        var_d = 'd' + str(count)\n",
    "\n",
    "        query = (\n",
    "            'MATCH (' + var_p + ':Product {id: ' + str(product_id) + '}), '\n",
    "            '(' + var_d + ':Discount {id: ' + str(discount_id) + '}) '\n",
    "            'CREATE (' + var_p + ')-[:HAS_DISCOUNT]->(' + var_d + ');\\n'\n",
    "        )\n",
    "        cyph.write(query)\n",
    "        count += 1\n",
    "\n",
    "    cyph.write('\\n\\n')"
   ]
  },
  {
   "attachments": {},
   "cell_type": "markdown",
   "metadata": {},
   "source": [
    "- Relacionamento: Payment_Details `RELATES_TO` order"
   ]
  },
  {
   "cell_type": "code",
   "execution_count": null,
   "metadata": {},
   "outputs": [],
   "source": [
    "def create_payment_order_rel(cursor, cyph):\n",
    "    # Retrieve payment and order data from the database\n",
    "    query = \"SELECT * FROM Payment_Details\"\n",
    "    cursor.execute(query)\n",
    "    result = cursor.fetchall()\n",
    "\n",
    "    count = 1\n",
    "    for row in result:\n",
    "        payment_id = row[0]\n",
    "        order_id = row[1]\n",
    "\n",
    "        var_pd = 'pd' + str(count)\n",
    "        var_od = 'od' + str(count)\n",
    "\n",
    "        query = (\n",
    "            'MATCH (' + var_pd + ':Payment_Details {id: ' + str(payment_id) + '}), '\n",
    "            '(' + var_od + ':Order_Details {id: ' + str(order_id) + '}) '\n",
    "            'CREATE (' + var_pd + ')-[:RELATES_TO]->(' + var_od + ');\\n'\n",
    "        )\n",
    "        cyph.write(query)\n",
    "        count += 1\n",
    "\n",
    "    cyph.write('\\n\\n')"
   ]
  },
  {
   "attachments": {},
   "cell_type": "markdown",
   "metadata": {},
   "source": [
    "- Relacionamento: order `SHIPPED_TO` address"
   ]
  },
  {
   "cell_type": "code",
   "execution_count": null,
   "metadata": {},
   "outputs": [],
   "source": [
    "def create_order_address_rel(cursor, cyph):\n",
    "    # Retrieve order and address data from the database\n",
    "    query = \"SELECT * FROM Order_Details\"\n",
    "    cursor.execute(query)\n",
    "    result = cursor.fetchall()\n",
    "\n",
    "    count = 1\n",
    "    for row in result:\n",
    "        order_id = row[0]\n",
    "        address_id = row[5]\n",
    "\n",
    "        var_od = 'od' + str(count)\n",
    "        var_a = 'a' + str(count)\n",
    "\n",
    "        query = (\n",
    "            'MATCH (' + var_od + ':Order_Details {id: ' + str(order_id) + '}), '\n",
    "            '(' + var_a + ':Addresses {id: ' + str(address_id) + '}) '\n",
    "            'CREATE (' + var_od + ')-[:SHIPPED_TO]->(' + var_a + ');\\n'\n",
    "        )\n",
    "        cyph.write(query)\n",
    "        count += 1\n",
    "\n",
    "    cyph.write('\\n\\n')"
   ]
  },
  {
   "attachments": {},
   "cell_type": "markdown",
   "metadata": {},
   "source": [
    "- Relacionamento: order `CONTAINS` order_items "
   ]
  },
  {
   "cell_type": "code",
   "execution_count": null,
   "metadata": {},
   "outputs": [],
   "source": [
    "def create_order_item_rel(cursor, cyph):\n",
    "    # Retrieve order details and order items data from the database\n",
    "    query = \"SELECT * FROM Order_Items\"\n",
    "    cursor.execute(query)\n",
    "    result = cursor.fetchall()\n",
    "\n",
    "    count = 1\n",
    "    for row in result:\n",
    "        order_details_id = row[1]\n",
    "        order_item_id = row[0]\n",
    "\n",
    "        var_od = 'od' + str(count)\n",
    "        var_oi = 'oi' + str(count)\n",
    "\n",
    "        query = (\n",
    "            'MATCH (' + var_od + ':Order_Details {id: ' + str(order_details_id) + '}), '\n",
    "            '(' + var_oi + ':Order_Items {id: ' + str(order_item_id) + '}) '\n",
    "            'CREATE (' + var_od + ')-[:CONTAINS]->(' + var_oi + ');\\n'\n",
    "        )\n",
    "        cyph.write(query)\n",
    "        count += 1\n",
    "\n",
    "    cyph.write('\\n\\n')"
   ]
  },
  {
   "attachments": {},
   "cell_type": "markdown",
   "metadata": {},
   "source": [
    "- Relacionamento: cart_item `CONTAINS` product"
   ]
  },
  {
   "cell_type": "code",
   "execution_count": null,
   "metadata": {},
   "outputs": [],
   "source": [
    "def create_cartItem_product_rel(cursor, cyph):\n",
    "    query = \"SELECT * FROM CART_ITEM\"\n",
    "    cursor.execute(query)\n",
    "    result = cursor.fetchall()\n",
    "\n",
    "    # Iterate over the rows of the CART_ITEM table\n",
    "    count = 1\n",
    "    for row in result:\n",
    "        cart_item_id = row[0]\n",
    "        product_id = row[2]\n",
    "\n",
    "        # Create a relationship between the cart_item and product nodes\n",
    "        cyph.write('MATCH (c:Cart_Item {id: ' + str(cart_item_id) + '}) '\n",
    "                   'MATCH (p:Product {id: ' + str(product_id) + '}) '\n",
    "                   'CREATE (c)-[:IS_A]->(p);\\n')\n",
    "        count += 1\n",
    "\n",
    "    cyph.write('\\n\\n')"
   ]
  },
  {
   "attachments": {},
   "cell_type": "markdown",
   "metadata": {},
   "source": [
    "- Relacionamento: shopping_session `CONTAINS` cart_item"
   ]
  },
  {
   "cell_type": "code",
   "execution_count": null,
   "metadata": {},
   "outputs": [],
   "source": [
    "def create_shoppingSession_cartItem_rel(cursor, cyph):\n",
    "    query = \"SELECT * FROM SHOPPING_SESSION\"\n",
    "    cursor.execute(query)\n",
    "    result = cursor.fetchall()\n",
    "\n",
    "    # Iterate over the rows of the SHOPPING_SESSION table\n",
    "    count = 1\n",
    "    for row in result:\n",
    "        session_id = row[0]\n",
    "\n",
    "        # Get the cart items associated with the shopping session\n",
    "        cart_items_query = \"SELECT * FROM CART_ITEM WHERE session_id = \" + str(session_id)\n",
    "        cursor.execute(cart_items_query)\n",
    "        cart_items_result = cursor.fetchall()\n",
    "\n",
    "        # Create a relationship between the shopping_session and cart_item nodes\n",
    "        for cart_item_row in cart_items_result:\n",
    "            cart_item_id = cart_item_row[0]\n",
    "            cyph.write('MATCH (s:Shopping_Session {id: ' + str(session_id) + '}), (c:Cart_Item {id: ' + str(cart_item_id) + '}) CREATE (s)-[:CONTAINS]->(c);\\n')\n",
    "\n",
    "        count += 1\n",
    "\n",
    "    cyph.write('\\n\\n')"
   ]
  },
  {
   "cell_type": "code",
   "execution_count": null,
   "metadata": {},
   "outputs": [],
   "source": [
    "def deleteIDs(cyph):\n",
    "    query = \"MATCH (u:Store_User) REMOVE u.id;\" + \"\\n\"\n",
    "    cyph.write(query)\n",
    "    query = \"MATCH (pc:Product_Category) REMOVE pc.id;\" + \"\\n\"\n",
    "    cyph.write(query)\n",
    "    query = \"MATCH (p:Product) REMOVE p.id;\" + \"\\n\"\n",
    "    cyph.write(query)\n",
    "    query = \"MATCH (dis:Discount) REMOVE dis.id;\" + \"\\n\"\n",
    "    cyph.write(query)\n",
    "    query = \"MATCH (c:Cart_Item) REMOVE c.id;\" + \"\\n\"\n",
    "    cyph.write(query)\n",
    "    query = \"MATCH (s:Shopping_Session) REMOVE s.id;\" + \"\\n\"\n",
    "    cyph.write(query)\n",
    "    query = \"MATCH (o:Order_Details) REMOVE o.id;\" + \"\\n\"\n",
    "    cyph.write(query)\n",
    "    query = \"MATCH (pd:Payment_Details) REMOVE pd.id;\" + \"\\n\"\n",
    "    cyph.write(query)\n",
    "    query = \"MATCH (e:Employees) REMOVE e.id;\" + \"\\n\"\n",
    "    cyph.write(query)\n",
    "    query = \"MATCH (d:Departments) REMOVE d.id;\" + \"\\n\"\n",
    "    cyph.write(query)\n",
    "    query = \"MATCH (a:Addresses) REMOVE a.id;\" + \"\\n\"\n",
    "    cyph.write(query)"
   ]
  },
  {
   "attachments": {},
   "cell_type": "markdown",
   "metadata": {},
   "source": [
    "### Escrever script de criação de nodos"
   ]
  },
  {
   "cell_type": "code",
   "execution_count": null,
   "metadata": {},
   "outputs": [],
   "source": [
    "# Criação do nome do ficheiro a ser utilizado\n",
    "fileName = \"neoNodes\" + \".txt\"\n",
    "\n",
    "# Abertura do Ficheiro \n",
    "cyph = open(fileName, \"w\")\n",
    "\n",
    "\n",
    "try:\n",
    "    # Criar nodo StoreUser\n",
    "    createStoreUserNodes(cursor,cyph) \n",
    "    # Criar nodo Product\n",
    "    createProductNodes(cursor, cyph)\n",
    "    # Criar nodo Discount\n",
    "    createDiscountNodes(cursor, cyph) \n",
    "    # Criar nodo CartItem\n",
    "    createCartItemNode(cursor, cyph) \n",
    "    # Criar nodo ShoppingSession\n",
    "    createShoppingSessionNode(cursor, cyph)\n",
    "    # Criar nodo OrderDetails  \n",
    "    createOrderDetailsNode(cursor, cyph) \n",
    "    # Criar nodo OrderItems\n",
    "    createOrderItemsNode(cursor, cyph)\n",
    "    # Criar nodo PaymentDetails\n",
    "    createPaymentDetailsNode(cursor, cyph)\n",
    "    # Criar nodo Employees\n",
    "    createEmployeesNode(cursor, cyph) \n",
    "    # Criar nodo Departments\n",
    "    createDepartmentsNode(cursor, cyph) \n",
    "    # Criar nodo Addresses\n",
    "    createAddressesNode(cursor, cyph) \n",
    "    \n",
    "    \n",
    "    cyph.close()\n",
    "    \n",
    "except cx_Oracle.DatabaseError as er:\n",
    "    print('ERROR - Oracle Database:', er)\n",
    "\n",
    "except:\n",
    "    print(\"ERROR - Node Creation.\")"
   ]
  },
  {
   "attachments": {},
   "cell_type": "markdown",
   "metadata": {},
   "source": [
    "### Escrever script de Relacionamentos"
   ]
  },
  {
   "cell_type": "code",
   "execution_count": null,
   "metadata": {},
   "outputs": [],
   "source": [
    "# Open the file in write mode\n",
    "cyph_file = open(\"neoRelationships.txt\", \"w\")\n",
    "\n",
    "try:\n",
    "    # Criar Relações:\n",
    "    create_employee_department_rel(cursor, cyph_file)\n",
    "    create_session_user_rel(cursor, cyph_file)\n",
    "    create_order_placed_by_user_rel(cursor, cyph_file)\n",
    "    create_product_discount_rel(cursor, cyph_file)\n",
    "    create_payment_order_rel(cursor, cyph_file)\n",
    "    create_order_address_rel(cursor, cyph_file)\n",
    "    create_cartItem_product_rel(cursor, cyph_file)\n",
    "    create_shoppingSession_cartItem_rel(cursor, cyph_file)\n",
    "    create_order_item_rel(cursor, cyph_file)\n",
    "    \n",
    "    deleteIDs(cyph_file)\n",
    "    cyph_file.close()\n",
    "except Exception as e:\n",
    "    print('ERROR - Relationship Creation')\n",
    "    print(e)\n"
   ]
  },
  {
   "attachments": {},
   "cell_type": "markdown",
   "metadata": {},
   "source": [
    "### Estabelecer conexão com o Neo4J"
   ]
  },
  {
   "cell_type": "code",
   "execution_count": null,
   "metadata": {},
   "outputs": [],
   "source": [
    "from neo4j import GraphDatabase\n",
    "\n",
    "# Establish a connection to the Neo4j database\n",
    "uri = 'bolt://localhost:7687'\n",
    "driver = GraphDatabase.driver(uri, auth=('neo4j', 'uminho2023'))"
   ]
  },
  {
   "attachments": {},
   "cell_type": "markdown",
   "metadata": {},
   "source": [
    "### Utility functions"
   ]
  },
  {
   "cell_type": "code",
   "execution_count": 30,
   "metadata": {},
   "outputs": [],
   "source": [
    "# Function to execute Cypher queries\n",
    "def execute_cypher_query(query):\n",
    "    with driver.session() as session:\n",
    "        session.run(query)\n",
    "\n",
    "\n",
    "def delete_all_data():\n",
    "    query = \"MATCH (n) DETACH DELETE n\"\n",
    "\n",
    "    with driver.session() as session:\n",
    "        session.run(query)"
   ]
  },
  {
   "attachments": {},
   "cell_type": "markdown",
   "metadata": {},
   "source": [
    "### Criação de nodos e relacionamentos"
   ]
  },
  {
   "cell_type": "code",
   "execution_count": 32,
   "metadata": {},
   "outputs": [],
   "source": [
    "# Create Nodes\n",
    "with open(\"neoNodes.txt\", \"r\") as file:\n",
    "    queries = file.readlines()\n",
    "    for query in queries:\n",
    "        trimmed_query = query.strip()\n",
    "        if trimmed_query:\n",
    "            execute_cypher_query(trimmed_query)\n",
    "\n",
    "# Create Relationships\n",
    "with open(\"neoRelationships.txt\", \"r\") as file:\n",
    "    queries = file.readlines()\n",
    "    for query in queries:\n",
    "        trimmed_query = query.strip()\n",
    "        if trimmed_query:\n",
    "            execute_cypher_query(trimmed_query)\n",
    "\n",
    "# Close the database connection\n",
    "driver.close()"
   ]
  }
 ],
 "metadata": {
  "kernelspec": {
   "display_name": "base",
   "language": "python",
   "name": "python3"
  },
  "language_info": {
   "codemirror_mode": {
    "name": "ipython",
    "version": 3
   },
   "file_extension": ".py",
   "mimetype": "text/x-python",
   "name": "python",
   "nbconvert_exporter": "python",
   "pygments_lexer": "ipython3",
   "version": "3.10.11"
  },
  "orig_nbformat": 4
 },
 "nbformat": 4,
 "nbformat_minor": 2
}
