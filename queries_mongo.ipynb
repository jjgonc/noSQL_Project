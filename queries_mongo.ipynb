{
 "cells": [
  {
   "cell_type": "code",
   "execution_count": 18,
   "metadata": {},
   "outputs": [
    {
     "name": "stdout",
     "output_type": "stream",
     "text": [
      "{'product_name': 'Apple Iphone 11'}\n",
      "{'product_name': 'Acer Aspire TX Turbo 2'}\n",
      "Execution Time: 0.007788181304931641 seconds\n"
     ]
    }
   ],
   "source": [
    "import time\n",
    "import pymongo\n",
    "\n",
    "# Connect to MongoDB\n",
    "client = pymongo.MongoClient(\"mongodb://localhost:27017/\")\n",
    "\n",
    "# Create a database called \"oes\"\n",
    "database = client[\"oes\"]\n",
    "\n",
    "# Create collections\n",
    "collection_user = database[\"user\"]\n",
    "collection_product = database[\"product\"]\n",
    "collection_order = database[\"order\"]\n",
    "collection_employees = database[\"employees\"]\n",
    "\n",
    "# Start the timer\n",
    "start_time = time.time()\n",
    "\n",
    "\n",
    "# Execute the aggregation query\n",
    "result = collection_product.aggregate([\n",
    "    {\n",
    "        \"$lookup\": {\n",
    "            \"from\": \"order\",\n",
    "            \"localField\": \"product_ID\",\n",
    "            \"foreignField\": \"order_items.item_productID\",\n",
    "            \"as\": \"orders\"\n",
    "        }\n",
    "    },\n",
    "    {\n",
    "        \"$match\": {\n",
    "            \"orders\": { \"$size\": 0 }\n",
    "        }\n",
    "    },\n",
    "    {\n",
    "        \"$project\": {\n",
    "            \"_id\": 0,\n",
    "            \"product_name\": 1\n",
    "        }\n",
    "    }\n",
    "])\n",
    "\n",
    "\n",
    "\n",
    "# End the timer and calculate the execution time\n",
    "end_time = time.time()\n",
    "execution_time = end_time - start_time\n",
    "\n",
    "# Access the query result\n",
    "for doc in result:\n",
    "    print(doc)  # Print or process the document as needed\n",
    "\n",
    "# Print the execution time\n",
    "print(\"Execution Time:\", execution_time, \"seconds\")\n",
    "\n",
    "# Close the MongoDB connection\n",
    "client.close()\n"
   ]
  },
  {
   "attachments": {},
   "cell_type": "markdown",
   "metadata": {},
   "source": [
    "#### Query 1"
   ]
  },
  {
   "cell_type": "code",
   "execution_count": null,
   "metadata": {},
   "outputs": [],
   "source": [
    "# Execute the aggregation query\n",
    "result = collection_user.aggregate([\n",
    "    {\n",
    "        \"$lookup\": {\n",
    "            \"from\": \"order\",\n",
    "            \"localField\": \"user_ID\",\n",
    "            \"foreignField\": \"order_userID\",\n",
    "            \"as\": \"user_orders\"\n",
    "        }\n",
    "    },\n",
    "    {\n",
    "        \"$project\": {\n",
    "            \"user_id\": \"$user_ID\",\n",
    "            \"user_orders\": \"$user_orders\"\n",
    "        }\n",
    "    }\n",
    "])"
   ]
  },
  {
   "attachments": {},
   "cell_type": "markdown",
   "metadata": {},
   "source": [
    "#### Query 2"
   ]
  },
  {
   "cell_type": "code",
   "execution_count": null,
   "metadata": {},
   "outputs": [],
   "source": [
    "result = collection_order.aggregate([\n",
    "  {\n",
    "    \"$lookup\": {\n",
    "      \"from\": \"user\",\n",
    "      \"localField\": \"order_userID\",\n",
    "      \"foreignField\": \"user_ID\",\n",
    "      \"as\": \"user\"\n",
    "    }\n",
    "  },\n",
    "  {\n",
    "    \"$unwind\": \"$user\"\n",
    "  },\n",
    "  {\n",
    "    \"$sort\": {\n",
    "      \"order_total\": -1\n",
    "    }\n",
    "  },\n",
    "  {\n",
    "    \"$limit\": 1\n",
    "  },\n",
    "  {\n",
    "    \"$project\": {\n",
    "      \"_id\": \"$user._id\",\n",
    "      \"username\": \"$user.user_username\",\n",
    "      \"maxOrderTotal\": \"$order_total\"\n",
    "    }\n",
    "  }\n",
    "])\n"
   ]
  },
  {
   "attachments": {},
   "cell_type": "markdown",
   "metadata": {},
   "source": [
    "#### Query 3"
   ]
  },
  {
   "cell_type": "code",
   "execution_count": null,
   "metadata": {},
   "outputs": [],
   "source": [
    "# Execute the aggregation query\n",
    "result = collection_user.find().sort(\"user_registeredAt\", pymongo.ASCENDING).limit(1)"
   ]
  },
  {
   "attachments": {},
   "cell_type": "markdown",
   "metadata": {},
   "source": [
    "#### Query 4"
   ]
  },
  {
   "cell_type": "code",
   "execution_count": null,
   "metadata": {},
   "outputs": [],
   "source": [
    "# Execute the aggregation query\n",
    "result = collection_order.aggregate([\n",
    "    {\n",
    "        \"$lookup\": {\n",
    "            \"from\": \"user\",\n",
    "            \"localField\": \"order_userID\",\n",
    "            \"foreignField\": \"user_ID\",\n",
    "            \"as\": \"user\"\n",
    "        }\n",
    "    },\n",
    "    {\n",
    "        \"$unwind\": \"$user\"\n",
    "    },\n",
    "    {\n",
    "        \"$group\": {\n",
    "            \"_id\": \"$user.user_ID\",\n",
    "            \"average_order_value\": { \"$avg\": \"$order_total\" }\n",
    "        }\n",
    "    }\n",
    "])"
   ]
  },
  {
   "attachments": {},
   "cell_type": "markdown",
   "metadata": {},
   "source": [
    "#### Query 5"
   ]
  },
  {
   "cell_type": "code",
   "execution_count": null,
   "metadata": {},
   "outputs": [],
   "source": [
    "# Execute the aggregation query\n",
    "result = collection_product.aggregate([\n",
    "    {\n",
    "        \"$lookup\": {\n",
    "            \"from\": \"order\",\n",
    "            \"localField\": \"product_ID\",\n",
    "            \"foreignField\": \"order_items.item_productID\",\n",
    "            \"as\": \"orders\"\n",
    "        }\n",
    "    },\n",
    "    {\n",
    "        \"$group\": {\n",
    "            \"_id\": \"$product_category.category_name\",\n",
    "            \"total_orders\": { \"$sum\": { \"$size\": \"$orders\" } }\n",
    "        }\n",
    "    }\n",
    "])"
   ]
  },
  {
   "attachments": {},
   "cell_type": "markdown",
   "metadata": {},
   "source": [
    "#### Query 6"
   ]
  },
  {
   "cell_type": "code",
   "execution_count": null,
   "metadata": {},
   "outputs": [],
   "source": [
    "result = collection_order.aggregate([\n",
    "    {\n",
    "        \"$group\": {\n",
    "            \"_id\": \"$order_shippingMethod\",\n",
    "            \"count\": { \"$sum\": 1 }\n",
    "        }\n",
    "    },\n",
    "    {\n",
    "        \"$sort\": { \"count\": -1 }\n",
    "    },\n",
    "    {\n",
    "        \"$limit\": 1\n",
    "    }\n",
    "])"
   ]
  },
  {
   "attachments": {},
   "cell_type": "markdown",
   "metadata": {},
   "source": [
    "#### Query 7"
   ]
  },
  {
   "cell_type": "code",
   "execution_count": null,
   "metadata": {},
   "outputs": [],
   "source": [
    "# Execute the aggregation query\n",
    "result = collection_employees.find().sort(\"emp_hireDate\", 1).limit(1)"
   ]
  },
  {
   "attachments": {},
   "cell_type": "markdown",
   "metadata": {},
   "source": [
    "#### Query 8"
   ]
  },
  {
   "cell_type": "code",
   "execution_count": null,
   "metadata": {},
   "outputs": [],
   "source": [
    "max_salary = collection_employees.aggregate([{ \"$group\": { \"_id\": None, \"maxSalary\": { \"$max\": \"$emp_salary\" } } }]).next()[\"maxSalary\"]\n",
    "\n",
    "# Find the employee with the highest salary\n",
    "result = collection_employees.find({ \"emp_salary\": max_salary })"
   ]
  },
  {
   "attachments": {},
   "cell_type": "markdown",
   "metadata": {},
   "source": [
    "#### Query 9"
   ]
  },
  {
   "cell_type": "code",
   "execution_count": null,
   "metadata": {},
   "outputs": [],
   "source": [
    "# Execute the aggregation query\n",
    "result = collection_employees.aggregate([\n",
    "    {\n",
    "        \"$match\": {\n",
    "            \"emp_managerID\": { \"$ne\": 0 }\n",
    "        }\n",
    "    },\n",
    "    {\n",
    "        \"$lookup\": {\n",
    "            \"from\": \"employees\",\n",
    "            \"localField\": \"emp_ID\",\n",
    "            \"foreignField\": \"emp_managerID\",\n",
    "            \"as\": \"subordinates\"\n",
    "        }\n",
    "    },\n",
    "    {\n",
    "        \"$addFields\": {\n",
    "            \"numSubordinates\": { \"$size\": \"$subordinates\" }\n",
    "        }\n",
    "    },\n",
    "    {\n",
    "        \"$sort\": {\n",
    "            \"numSubordinates\": -1\n",
    "        }\n",
    "    },\n",
    "    {\n",
    "        \"$limit\": 1\n",
    "    },\n",
    "    {\n",
    "        \"$project\": {\n",
    "            \"emp_ID\": 1,\n",
    "            \"emp_firstName\": 1,\n",
    "            \"emp_LastName\": 1,\n",
    "            \"numSubordinates\": 1\n",
    "        }\n",
    "    }\n",
    "])"
   ]
  },
  {
   "attachments": {},
   "cell_type": "markdown",
   "metadata": {},
   "source": [
    "#### Query 10"
   ]
  },
  {
   "cell_type": "code",
   "execution_count": null,
   "metadata": {},
   "outputs": [],
   "source": [
    "# Execute the aggregation query\n",
    "result = collection_order.aggregate([\n",
    "    {\n",
    "        \"$unwind\": \"$order_items\"\n",
    "    },\n",
    "    {\n",
    "        \"$group\": {\n",
    "            \"_id\": \"$order_items.item_productID\",\n",
    "            \"order_count\": { \"$sum\": 1 }\n",
    "        }\n",
    "    },\n",
    "    {\n",
    "        \"$lookup\": {\n",
    "            \"from\": \"product\",\n",
    "            \"localField\": \"_id\",\n",
    "            \"foreignField\": \"product_ID\",\n",
    "            \"as\": \"product\"\n",
    "        }\n",
    "    },\n",
    "    {\n",
    "        \"$unwind\": \"$product\"\n",
    "    },\n",
    "    {\n",
    "        \"$project\": {\n",
    "            \"_id\": 0,\n",
    "            \"product_name\": \"$product.product_name\",\n",
    "            \"order_count\": 1\n",
    "        }\n",
    "    },\n",
    "    {\n",
    "        \"$sort\": { \"order_count\": -1 }\n",
    "    }\n",
    "])\n"
   ]
  },
  {
   "attachments": {},
   "cell_type": "markdown",
   "metadata": {},
   "source": [
    "#### Query 11"
   ]
  },
  {
   "cell_type": "code",
   "execution_count": null,
   "metadata": {},
   "outputs": [],
   "source": [
    "# Execute the aggregation query\n",
    "result = collection_product.aggregate([\n",
    "    {\n",
    "        \"$lookup\": {\n",
    "            \"from\": \"order\",\n",
    "            \"localField\": \"product_ID\",\n",
    "            \"foreignField\": \"order_items.item_productID\",\n",
    "            \"as\": \"orders\"\n",
    "        }\n",
    "    },\n",
    "    {\n",
    "        \"$match\": {\n",
    "            \"orders\": { \"$size\": 0 }\n",
    "        }\n",
    "    },\n",
    "    {\n",
    "        \"$project\": {\n",
    "            \"_id\": 0,\n",
    "            \"product_name\": 1\n",
    "        }\n",
    "    }\n",
    "])"
   ]
  }
 ],
 "metadata": {
  "kernelspec": {
   "display_name": "Python 3",
   "language": "python",
   "name": "python3"
  },
  "language_info": {
   "codemirror_mode": {
    "name": "ipython",
    "version": 3
   },
   "file_extension": ".py",
   "mimetype": "text/x-python",
   "name": "python",
   "nbconvert_exporter": "python",
   "pygments_lexer": "ipython3",
   "version": "3.10.11"
  },
  "orig_nbformat": 4
 },
 "nbformat": 4,
 "nbformat_minor": 2
}
